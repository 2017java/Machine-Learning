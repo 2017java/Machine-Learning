{
 "cells": [
  {
   "cell_type": "markdown",
   "metadata": {
    "toc": true
   },
   "source": [
    "<h1>Table of Contents<span class=\"tocSkip\"></span></h1>\n",
    "<div class=\"toc\"><ul class=\"toc-item\"><li><span><a href=\"#距离计算\" data-toc-modified-id=\"距离计算-1\">距离计算</a></span></li><li><span><a href=\"#1.-闵可夫斯基距离（连续属性、有序属性）\" data-toc-modified-id=\"1.-闵可夫斯基距离（连续属性、有序属性）-2\">1. 闵可夫斯基距离（连续属性、有序属性）</a></span><ul class=\"toc-item\"><li><span><a href=\"#1.1-曼哈顿距离\" data-toc-modified-id=\"1.1-曼哈顿距离-2.1\">1.1 曼哈顿距离</a></span></li><li><span><a href=\"#1.2-欧氏距离\" data-toc-modified-id=\"1.2-欧氏距离-2.2\">1.2 欧氏距离</a></span></li></ul></li><li><span><a href=\"#2.-VDM-距离（无序属性）\" data-toc-modified-id=\"2.-VDM-距离（无序属性）-3\">2. VDM 距离（无序属性）</a></span></li><li><span><a href=\"#3.-MinkovDM-距离（混合属性）\" data-toc-modified-id=\"3.-MinkovDM-距离（混合属性）-4\">3. MinkovDM 距离（混合属性）</a></span></li><li><span><a href=\"#4.-加权距离（重要性不同）\" data-toc-modified-id=\"4.-加权距离（重要性不同）-5\">4. 加权距离（重要性不同）</a></span></li><li><span><a href=\"#参考资料\" data-toc-modified-id=\"参考资料-6\">参考资料</a></span></li></ul></div>"
   ]
  },
  {
   "cell_type": "markdown",
   "metadata": {},
   "source": [
    "相关文章：\n",
    "\n",
    "[机器学习 | 目录](https://blog.csdn.net/weixin_45488228/article/details/99691709)\n",
    "\n",
    "[机器学习 | 聚类评估指标](https://blog.csdn.net/weixin_45488228/article/details/100549820)"
   ]
  },
  {
   "cell_type": "markdown",
   "metadata": {},
   "source": [
    "# 距离计算\n",
    "\n",
    "对函数 $dist(\\cdot,\\cdot)$ ，若它是一个“`距离度量`”（distance measure），则需满足一些基本性质：<sup>[1]\n",
    "\n",
    "$$\n",
    "\\begin{aligned}\n",
    "&非负性：dist(x_i,x_j) \\geq 0; \\\\\n",
    "&同一性：dist(x_i,x_j)=0 当且仅当 x_i=x_j;\\\\\n",
    "&对称性：dist(x_i,x_j) = dist(x_j,x_i)\\\\\n",
    "&直递性：dist(x_i,x_j)\\leq dist(x_i,x_k)+dist(x_k,x_j) 【三角不等式】\\\\\n",
    "\\end{aligned}\\tag{1}\n",
    "$$\n",
    "\n"
   ]
  },
  {
   "cell_type": "markdown",
   "metadata": {},
   "source": [
    "# 1. 闵可夫斯基距离（连续属性、有序属性）\n",
    "\n",
    "给定样本 $x_i=(x_{i1},x_{i2},\\cdots,x_{in})$ 与 $x_j=(x_{j1},x_{j2},\\cdots,x_{jn})$ ，最常用的是“`闵可夫斯基距离`”（Minkowski distance）\n",
    "\n",
    "$$dist_{mk}(x_i,x_j)=\\bigg(\\sum_{u=1}^n |x_{iu}-x_{ju}|^p\\bigg)^{\\frac{1}{p}} \\tag{2}$$\n",
    "\n",
    "对 $p \\geq 1$，式 2 明显满足公式 1 的距离度量基本性质。\n",
    "\n",
    "> 当 $p\\to\\infty 时，则得到切比雪夫距离$"
   ]
  },
  {
   "cell_type": "markdown",
   "metadata": {},
   "source": [
    "## 1.1 曼哈顿距离\n",
    "\n",
    "当 $p=1$ 时，闵可夫斯基距离即`曼哈顿距离`（Manhattan distance），亦称“`街区距离`”（city block distance）：\n",
    "\n",
    "$$dist_{man}(x_i,x_j)=\\|x_i-x_j\\|_1=\\sum_{u=1}^n|x_{iu}-x_{ju}| \\tag{3}$$\n",
    "\n",
    "## 1.2 欧氏距离\n",
    "\n",
    "当 $p=2$ 时，闵可夫斯基距离即`欧式距离`（Euclidean distance）：\n",
    "\n",
    "$$dist_{ed}(x_i,x_j)=\\|x_i,x_j\\|_2=\\sqrt{\\sum_{u=1}^n|x_{iu}-x_{ju}|^2} \\tag{4}$$"
   ]
  },
  {
   "cell_type": "markdown",
   "metadata": {},
   "source": [
    "我们常将属性划分为“`连续属性`”（continuous attribute）和“`离散属性`”（categorical attribute），前者在定义域上有无穷多个可能的取值，后者在定义域上是有限个取值。\n",
    "\n",
    "然而，在讨论距离计算时，属性上是否定义了“序”关系更为重要。例如定义域 {1,2,3} 的离散属性与连续属性的性质更接近一些，能直接在属性值上结算距离：“1”与“2”比较接近、与“3”比较远，这样的属性称为“`有序属性`”（ordinal attribute）；而定义域 {飞机, 火车, 轮船} 这样的离散属性则不能直接在属性值上计算距离，称为“`无序属性`”（non-ordinal attribute）。\n",
    "\n",
    "显然，闵可夫斯基距离可用于连续属性和有序属性。\n",
    "\n",
    "> 连续属性亦称“`数值属性`”（numerical attribute），“离散属性”亦称“`列名属性`“（nominal attribute）"
   ]
  },
  {
   "cell_type": "markdown",
   "metadata": {},
   "source": [
    "# 2. VDM 距离（无序属性）\n",
    "\n",
    "对无需属性可采用`VDM`（Value Difference Metric）。令 $m_{u,a}$ 表示在属性 $u$ 上取值为 $a$ 的样本数，$k$ 为样本数， $m_{u,a,i}$ 表示在第 $i$ 个样本簇中在属性 $u$ 上取值为 $a$ 的样本数，$k$ 为样本簇数，则属性 $u$ 上两个离散值 $a$ 与 $b$ 之间的 VDM 距离为：\n",
    "\n",
    "$$VDM_p(a,b)=\\sum_{i=1}^k\\bigg|\\frac{m_{u,a,i}}{m_{u,a}}-\\frac{m_{u,b,i}}{m_{u,b}}\\bigg|^p \\tag{5}$$"
   ]
  },
  {
   "cell_type": "markdown",
   "metadata": {},
   "source": [
    "# 3. MinkovDM 距离（混合属性）\n",
    "\n",
    "将闵可夫斯基距离和 VDM 距离结合即可处理`混合属性`。假定有 $n_c$ 个有序属性、 $n-n_c$ 个无序属性，不失一般性，令有序属性排列在无序属性之前，则\n",
    "\n",
    "$$MinkovDM_p(x_i,x_j)=\\bigg( \\sum_{u=1}^{n_c}|x_{iu}-x_{ju}|^p + \\sum_{u=n_c+1}^{n} VDM_p(x_{iu},x_{ju}) \\bigg)^{\\frac{1}{p}} \\tag{6}$$"
   ]
  },
  {
   "cell_type": "markdown",
   "metadata": {},
   "source": [
    "# 4. 加权距离（重要性不同）\n",
    "\n",
    "当样本空间中不同属性的重要性不同时，可使用“`加权距离`”（weighted distance）。\n",
    "\n",
    "以加权闵可夫斯基距离为例：\n",
    "\n",
    "$$dist_{wmk}(x_i,x_j)=\\bigg(\\sum_{u=1}^n w_u|x_{iu}-x_{ju}|^p\\bigg)^{\\frac{1}{p}} \\tag{7}$$"
   ]
  },
  {
   "cell_type": "markdown",
   "metadata": {},
   "source": [
    "# 参考资料\n",
    "\n",
    "[1] 周志华. 机器学习[M]. 北京: 清华大学出版社, 2016: 199-200."
   ]
  }
 ],
 "metadata": {
  "kernelspec": {
   "display_name": "Python 3",
   "language": "python",
   "name": "python3"
  },
  "language_info": {
   "codemirror_mode": {
    "name": "ipython",
    "version": 3
   },
   "file_extension": ".py",
   "mimetype": "text/x-python",
   "name": "python",
   "nbconvert_exporter": "python",
   "pygments_lexer": "ipython3",
   "version": "3.7.3"
  },
  "toc": {
   "base_numbering": 1,
   "nav_menu": {},
   "number_sections": false,
   "sideBar": true,
   "skip_h1_title": false,
   "title_cell": "Table of Contents",
   "title_sidebar": "Contents",
   "toc_cell": true,
   "toc_position": {},
   "toc_section_display": true,
   "toc_window_display": true
  },
  "varInspector": {
   "cols": {
    "lenName": 16,
    "lenType": 16,
    "lenVar": 40
   },
   "kernels_config": {
    "python": {
     "delete_cmd_postfix": "",
     "delete_cmd_prefix": "del ",
     "library": "var_list.py",
     "varRefreshCmd": "print(var_dic_list())"
    },
    "r": {
     "delete_cmd_postfix": ") ",
     "delete_cmd_prefix": "rm(",
     "library": "var_list.r",
     "varRefreshCmd": "cat(var_dic_list()) "
    }
   },
   "types_to_exclude": [
    "module",
    "function",
    "builtin_function_or_method",
    "instance",
    "_Feature"
   ],
   "window_display": false
  }
 },
 "nbformat": 4,
 "nbformat_minor": 2
}
