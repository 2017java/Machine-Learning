{
 "cells": [
  {
   "cell_type": "markdown",
   "metadata": {
    "toc": true
   },
   "source": [
    "<h1>Table of Contents<span class=\"tocSkip\"></span></h1>\n",
    "<div class=\"toc\"><ul class=\"toc-item\"><li><span><a href=\"#1.-距离计算\" data-toc-modified-id=\"1.-距离计算-1\">1. 距离计算</a></span><ul class=\"toc-item\"><li><span><a href=\"#1.1-闵可夫斯基距离\" data-toc-modified-id=\"1.1-闵可夫斯基距离-1.1\">1.1 闵可夫斯基距离</a></span><ul class=\"toc-item\"><li><span><a href=\"#1.1.1-曼哈顿距离\" data-toc-modified-id=\"1.1.1-曼哈顿距离-1.1.1\">1.1.1 曼哈顿距离</a></span></li><li><span><a href=\"#1.1.2-欧氏距离\" data-toc-modified-id=\"1.1.2-欧氏距离-1.1.2\">1.1.2 欧氏距离</a></span></li></ul></li><li><span><a href=\"#1.2-VDM-距离\" data-toc-modified-id=\"1.2-VDM-距离-1.2\">1.2 VDM 距离</a></span></li></ul></li><li><span><a href=\"#参考资料\" data-toc-modified-id=\"参考资料-2\">参考资料</a></span></li></ul></div>"
   ]
  },
  {
   "cell_type": "markdown",
   "metadata": {},
   "source": [
    "# 1. 距离计算\n",
    "\n",
    "对函数 $dist(\\cdot,\\cdot)$ ，若它是一个“`距离度量`”（distance measure），则需满足一些基本性质：\n",
    "\n",
    "$$\n",
    "\\begin{aligned}\n",
    "&非负性：dist(x_i,x_j) \\geq 0; \\\\\n",
    "&同一性：dist(x_i,x_j)=0 当且仅当 x_i=x_j;\\\\\n",
    "&对称性：dist(x_i,x_j) = dist(x_j,x_i)\\\\\n",
    "&直递性：dist(x_i,x_j)\\leq dist(x_i,x_k)+dist(x_k,x_j) 【三角不等式】\\\\\n",
    "\\end{aligned}\\tag{1}\n",
    "$$\n",
    "\n"
   ]
  },
  {
   "cell_type": "markdown",
   "metadata": {},
   "source": [
    "## 1.1 闵可夫斯基距离"
   ]
  },
  {
   "cell_type": "markdown",
   "metadata": {},
   "source": [
    "### 1.1.1 曼哈顿距离\n",
    "\n",
    "### 1.1.2 欧氏距离"
   ]
  },
  {
   "cell_type": "markdown",
   "metadata": {},
   "source": [
    "## 1.2 VDM 距离"
   ]
  },
  {
   "cell_type": "markdown",
   "metadata": {},
   "source": [
    "# 参考资料\n",
    "\n",
    "[1] 周志华. 机器学习[M]. 北京: 清华大学出版社, 2016: 199-200."
   ]
  },
  {
   "cell_type": "code",
   "execution_count": null,
   "metadata": {},
   "outputs": [],
   "source": []
  }
 ],
 "metadata": {
  "kernelspec": {
   "display_name": "Python 3",
   "language": "python",
   "name": "python3"
  },
  "language_info": {
   "codemirror_mode": {
    "name": "ipython",
    "version": 3
   },
   "file_extension": ".py",
   "mimetype": "text/x-python",
   "name": "python",
   "nbconvert_exporter": "python",
   "pygments_lexer": "ipython3",
   "version": "3.7.3"
  },
  "toc": {
   "base_numbering": 1,
   "nav_menu": {},
   "number_sections": false,
   "sideBar": true,
   "skip_h1_title": false,
   "title_cell": "Table of Contents",
   "title_sidebar": "Contents",
   "toc_cell": true,
   "toc_position": {},
   "toc_section_display": true,
   "toc_window_display": true
  },
  "varInspector": {
   "cols": {
    "lenName": 16,
    "lenType": 16,
    "lenVar": 40
   },
   "kernels_config": {
    "python": {
     "delete_cmd_postfix": "",
     "delete_cmd_prefix": "del ",
     "library": "var_list.py",
     "varRefreshCmd": "print(var_dic_list())"
    },
    "r": {
     "delete_cmd_postfix": ") ",
     "delete_cmd_prefix": "rm(",
     "library": "var_list.r",
     "varRefreshCmd": "cat(var_dic_list()) "
    }
   },
   "types_to_exclude": [
    "module",
    "function",
    "builtin_function_or_method",
    "instance",
    "_Feature"
   ],
   "window_display": false
  }
 },
 "nbformat": 4,
 "nbformat_minor": 2
}
