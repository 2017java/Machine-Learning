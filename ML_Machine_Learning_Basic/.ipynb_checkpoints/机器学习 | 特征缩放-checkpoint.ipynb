{
 "cells": [
  {
   "cell_type": "markdown",
   "metadata": {
    "toc": true
   },
   "source": [
    "<h1>Table of Contents<span class=\"tocSkip\"></span></h1>\n",
    "<div class=\"toc\"><ul class=\"toc-item\"><li><span><a href=\"#1.-特征缩放\" data-toc-modified-id=\"1.-特征缩放-1\">1. 特征缩放</a></span><ul class=\"toc-item\"><li><span><a href=\"#1.1-最大最小值归一化（min-max-normalization）\" data-toc-modified-id=\"1.1-最大最小值归一化（min-max-normalization）-1.1\">1.1 最大最小值归一化（min-max normalization）</a></span><ul class=\"toc-item\"><li><span><a href=\"#sklearn.preprocessing.MinMaxScaler\" data-toc-modified-id=\"sklearn.preprocessing.MinMaxScaler-1.1.1\">sklearn.preprocessing.MinMaxScaler</a></span></li></ul></li><li><span><a href=\"#1.2-均值归一化（mean-normalization）\" data-toc-modified-id=\"1.2-均值归一化（mean-normalization）-1.2\">1.2 均值归一化（mean normalization）</a></span></li><li><span><a href=\"#1.3-中心化（mean-centering）\" data-toc-modified-id=\"1.3-中心化（mean-centering）-1.3\">1.3 中心化（mean centering）</a></span></li><li><span><a href=\"#1.4-标准化-/-z值归一化（standardization-/-z-score-normalization）\" data-toc-modified-id=\"1.4-标准化-/-z值归一化（standardization-/-z-score-normalization）-1.4\">1.4 标准化 / z值归一化（standardization / z-score normalization）</a></span><ul class=\"toc-item\"><li><span><a href=\"#sklearn.preprocessing.StandardScaler\" data-toc-modified-id=\"sklearn.preprocessing.StandardScaler-1.4.1\">sklearn.preprocessing.StandardScaler</a></span></li></ul></li><li><span><a href=\"#1.5-最大绝对值归一化（max-abs-normalization）\" data-toc-modified-id=\"1.5-最大绝对值归一化（max-abs-normalization）-1.5\">1.5 最大绝对值归一化（max-abs normalization）</a></span><ul class=\"toc-item\"><li><span><a href=\"#sklearn.preprocessing.Normalizer\" data-toc-modified-id=\"sklearn.preprocessing.Normalizer-1.5.1\">sklearn.preprocessing.Normalizer</a></span></li></ul></li><li><span><a href=\"#1.6-稳健归一化（robust-normalization）\" data-toc-modified-id=\"1.6-稳健归一化（robust-normalization）-1.6\">1.6 稳健归一化（robust normalization）</a></span><ul class=\"toc-item\"><li><span><a href=\"#sklearn.preprocessing.robust_scale\" data-toc-modified-id=\"sklearn.preprocessing.robust_scale-1.6.1\">sklearn.preprocessing.robust_scale</a></span></li></ul></li></ul></li><li><span><a href=\"#2.-需要进行缩放的模型\" data-toc-modified-id=\"2.-需要进行缩放的模型-2\">2. 需要进行缩放的模型</a></span></li><li><span><a href=\"#3.-不需要进行缩放的模型\" data-toc-modified-id=\"3.-不需要进行缩放的模型-3\">3. 不需要进行缩放的模型</a></span></li><li><span><a href=\"#4.-进行特征缩放的注意事项\" data-toc-modified-id=\"4.-进行特征缩放的注意事项-4\">4. 进行特征缩放的注意事项</a></span></li></ul></div>"
   ]
  },
  {
   "cell_type": "markdown",
   "metadata": {},
   "source": [
    "# 1. 特征缩放\n",
    "\n",
    "`特征缩放`（Feature Scaling）\n",
    "\n",
    "## 1.1 最大最小值归一化（min-max normalization）\n",
    "\n",
    "$$\n",
    "x^\\prime=\\frac{x-min(x)}{max(x)-min(x)} \\tag{1}\n",
    "$$\n",
    "\n",
    "将数据归一化到 $[0,1]$。\n",
    "\n",
    "### sklearn.preprocessing.MinMaxScaler\n",
    "\n",
    "[MinMaxScaler](https://scikit-learn.org/dev/modules/generated/sklearn.preprocessing.MinMaxScaler.html#sklearn.preprocessing.MinMaxScaler)(feature_range=(0, 1), copy=True)\n",
    "\n",
    "\n",
    "## 1.2 均值归一化（mean normalization）\n",
    "\n",
    "$$\n",
    "x^\\prime=\\frac{x-\\bar{x}}{max(x)-min(x)} \\tag{2}\n",
    "$$\n",
    "\n",
    "将数据归一化到 $[-1,1]$。"
   ]
  },
  {
   "cell_type": "markdown",
   "metadata": {},
   "source": [
    "## 1.3 中心化（mean centering）\n",
    "\n",
    "$$\n",
    "x^{\\prime}=x-\\bar{x} \\tag{3}\n",
    "$$\n",
    "\n",
    "将数据缩放到 0 附近。\n",
    "\n",
    "\n",
    "## 1.4 标准化 / z值归一化（standardization / z-score normalization）\n",
    "\n",
    "$$\n",
    "x^{\\prime}=\\frac{x-\\bar{x}}{\\sigma} \\tag{4}\n",
    "$$\n",
    "\n",
    "将数据标准化为均值为 0 ，标准差为 1。\n",
    "\n",
    "### sklearn.preprocessing.StandardScaler\n",
    "\n",
    "[StandardScaler](https://scikit-learn.org/dev/modules/generated/sklearn.preprocessing.StandardScaler.html#sklearn.preprocessing.StandardScaler)(copy=True, with_mean=True, with_std=True)"
   ]
  },
  {
   "cell_type": "markdown",
   "metadata": {},
   "source": [
    "## 1.5 最大绝对值归一化（max-abs normalization）\n",
    "\n",
    "$$x^\\prime=\\frac{x}{\\|max(x)\\|} \\tag{5}$$\n",
    "\n",
    "适用于稀疏数据，将数据缩放到 $[-1,1]$。\n",
    "\n",
    "### sklearn.preprocessing.Normalizer\n",
    "\n",
    "[Normalizer](https://scikit-learn.org/dev/modules/generated/sklearn.preprocessing.Normalizer.html#sklearn.preprocessing.Normalizer)(norm='l2', copy=True)\n",
    "\n",
    "norm =‘max’ 时为最大绝对值归一化（好像没有绝对值）。\n",
    "\n",
    "## 1.6 稳健归一化（robust normalization）\n",
    "\n",
    "先减去中位数，再除以四分位距（interquartile range, IQR）。因为不涉及极值，因此在数据里有异常值的情况下表现比较稳健。\n",
    "\n",
    "$$x^\\prime = \\frac{x-median(x)}{IQR(x)} \\tag{6}$$\n",
    "\n",
    "### sklearn.preprocessing.robust_scale\n",
    "\n",
    "[robust_scale](https://scikit-learn.org/dev/modules/generated/sklearn.preprocessing.robust_scale.html#sklearn.preprocessing.robust_scale)(X, axis=0, with_centering=True, with_scaling=True, quantile_range=(25.0, 75.0), copy=True)"
   ]
  },
  {
   "cell_type": "markdown",
   "metadata": {},
   "source": [
    "# 2. 需要进行缩放的模型\n",
    "\n",
    "通过`梯度下降法`求解的模型需要进行特征缩放，这包括`线性回归`（Linear Regression）、`逻辑回归`（Logistic Regression）、`感知机`（Perceptron）、`支持向量机`（SVM）、`神经网络`（Neural Network）等模型。\n",
    "\n",
    "此外，`近邻法`（KNN），`K均值聚类`（K-Means）等需要`根据数据间的距离`来划分数据的算法也需要进行特征缩放。\n",
    "\n",
    "`主成分分析`（PCA），`线性判别分析`（LDA）等需要`计算特征的方差`的算法也会受到特征缩放的影响。\n",
    "\n",
    " \n",
    "# 3. 不需要进行缩放的模型\n",
    "\n",
    "`决策树`（Decision Tree），`随机森林`（Random Forest）等基于树的模型`不需要`进行特征缩放，因为特征缩放不会改变样本在特征上的信息增益。"
   ]
  },
  {
   "cell_type": "markdown",
   "metadata": {},
   "source": [
    "# 4. 进行特征缩放的注意事项\n",
    "\n",
    "需要先把数据拆分成训练集与验证集，在训练集上计算出需要的数值（如均值和标准值），对训练集数据做标准化/归一化处理（不要在整个数据集上做标准化/归一化处理，因为这样会将验证集的信息带入到训练集中，这是一个非常容易犯的错误），然后再用之前计算出的数据（如均值和标准值）对验证集数据做相同的标准化/归一化处理。"
   ]
  },
  {
   "cell_type": "markdown",
   "metadata": {},
   "source": [
    "参考资料\n",
    "\n",
    "[1] HuZihu.[ML] 特征缩放（Feature Scaling）[EB/OL].https://www.cnblogs.com/HuZihu/p/9761161.html, 2019-08-11.\n",
    "\n",
    "[2] Sebastian Raschka.[ML] About Feature Scaling and Normalization\n",
    "– and the effect of standardization for machine learning algorithms[EB/OL].https://sebastianraschka.com/Articles/2014_about_feature_scaling.html, 2014-7-11."
   ]
  }
 ],
 "metadata": {
  "kernelspec": {
   "display_name": "Python 3",
   "language": "python",
   "name": "python3"
  },
  "language_info": {
   "codemirror_mode": {
    "name": "ipython",
    "version": 3
   },
   "file_extension": ".py",
   "mimetype": "text/x-python",
   "name": "python",
   "nbconvert_exporter": "python",
   "pygments_lexer": "ipython3",
   "version": "3.7.3"
  },
  "toc": {
   "base_numbering": 1,
   "nav_menu": {},
   "number_sections": false,
   "sideBar": true,
   "skip_h1_title": false,
   "title_cell": "Table of Contents",
   "title_sidebar": "Contents",
   "toc_cell": true,
   "toc_position": {},
   "toc_section_display": true,
   "toc_window_display": true
  },
  "varInspector": {
   "cols": {
    "lenName": 16,
    "lenType": 16,
    "lenVar": 40
   },
   "kernels_config": {
    "python": {
     "delete_cmd_postfix": "",
     "delete_cmd_prefix": "del ",
     "library": "var_list.py",
     "varRefreshCmd": "print(var_dic_list())"
    },
    "r": {
     "delete_cmd_postfix": ") ",
     "delete_cmd_prefix": "rm(",
     "library": "var_list.r",
     "varRefreshCmd": "cat(var_dic_list()) "
    }
   },
   "types_to_exclude": [
    "module",
    "function",
    "builtin_function_or_method",
    "instance",
    "_Feature"
   ],
   "window_display": false
  }
 },
 "nbformat": 4,
 "nbformat_minor": 2
}
