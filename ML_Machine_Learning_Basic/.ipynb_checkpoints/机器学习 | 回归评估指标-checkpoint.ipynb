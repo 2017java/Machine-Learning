{
 "cells": [
  {
   "cell_type": "markdown",
   "metadata": {
    "toc": true
   },
   "source": [
    "<h1>Table of Contents<span class=\"tocSkip\"></span></h1>\n",
    "<div class=\"toc\"><ul class=\"toc-item\"><li><span><a href=\"#1.-回归评估指标\" data-toc-modified-id=\"1.-回归评估指标-1\">1. 回归评估指标</a></span><ul class=\"toc-item\"><li><span><a href=\"#1.1-平均绝对误差-MAE\" data-toc-modified-id=\"1.1-平均绝对误差-MAE-1.1\">1.1 平均绝对误差 MAE</a></span><ul class=\"toc-item\"><li><span><a href=\"#1.1.1-Sklearn-计算-MAE\" data-toc-modified-id=\"1.1.1-Sklearn-计算-MAE-1.1.1\">1.1.1 Sklearn 计算 MAE</a></span></li></ul></li><li><span><a href=\"#1.2-均方误差-MSE\" data-toc-modified-id=\"1.2-均方误差-MSE-1.2\">1.2 均方误差 MSE</a></span><ul class=\"toc-item\"><li><span><a href=\"#1.2.1-Sklearn-计算-MSE\" data-toc-modified-id=\"1.2.1-Sklearn-计算-MSE-1.2.1\">1.2.1 Sklearn 计算 MSE</a></span></li></ul></li><li><span><a href=\"#1.3-$R^2$\" data-toc-modified-id=\"1.3-$R^2$-1.3\">1.3 $R^2$</a></span><ul class=\"toc-item\"><li><span><a href=\"#1.3.1-Sklearn-计算$R^2$\" data-toc-modified-id=\"1.3.1-Sklearn-计算$R^2$-1.3.1\">1.3.1 Sklearn 计算$R^2$</a></span></li></ul></li></ul></li><li><span><a href=\"#2-参考资料\" data-toc-modified-id=\"2-参考资料-2\">2 参考资料</a></span></li></ul></div>"
   ]
  },
  {
   "cell_type": "markdown",
   "metadata": {},
   "source": [
    "关于分类评估指标，可以参考我的另一片文章：[机器学习 | 分类评估指标](https://blog.csdn.net/weixin_45488228/article/details/98896294)\n",
    "\n",
    "# 1. 回归评估指标\n"
   ]
  },
  {
   "cell_type": "markdown",
   "metadata": {},
   "source": [
    "## 1.1 平均绝对误差 MAE\n",
    "\n",
    "`MAE`：（Mean Absolute Error）平均绝对误差，从图形上看，MAE 就相当于将数据点与拟合之间之间的距离绝对值之和。\n",
    "\n",
    "$$MAE=\\frac{1}{m}\\sum_{i=1}^m|y^{(i)}-\\hat{y}^{(i)}| \\tag{1}$$\n",
    "\n",
    "<img style=\"float:center\" src=\"https://x1a-alioss.oss-cn-shenzhen.aliyuncs.com/Screen Shot 2019-08-08 at 22.28.08.png\" width=\"420\" >\n",
    "\n",
    "**MAE 缺点** ：绝对值函数是不可微分的，这不利于使用诸如梯度下降方法，因此我们将使用更常见的 MSE 均方误差。"
   ]
  },
  {
   "cell_type": "markdown",
   "metadata": {},
   "source": [
    "### 1.1.1 Sklearn 计算 MAE\n",
    "``` Python\n",
    "from sklearn.metrics import mean_absolute_error\n",
    "from sklearn.linear_model import LinearRegression\n",
    "\n",
    "classifier = LinerRegression()\n",
    "classifier.fit(X, y)\n",
    "\n",
    "guesses = classifier.predict(X)\n",
    "\n",
    "error = mean_absolute_error(y, guesses)\n",
    "```"
   ]
  },
  {
   "cell_type": "markdown",
   "metadata": {},
   "source": [
    "## 1.2 均方误差 MSE\n",
    "\n",
    "`MSE`：（Mean Squared Error）均方误差，从图形上看，为数据点到拟合直线之间的距离的平方。\n",
    "\n",
    "$$MSE=\\frac{1}{m}\\sum_{i=1}^m(y^{(i)}-\\hat{y}^{(i)})^2 \\tag{2}$$\n",
    "\n",
    "<img style=\"float:center\" src=\"https://x1a-alioss.oss-cn-shenzhen.aliyuncs.com/Screen Shot 2019-08-08 at 22.35.56.png\" width=\"420\" >\n",
    "\n",
    "**MSE 和 MAE 有局限性**：同一个算法模型，解决不同的问题，不能体现此模型针对不同问题所表现的优劣。因为不同实际应用中，数据的量纲不同，无法直接比较预测值，因此无法判断模型更适合预测哪个问题，因此我们将使用衡量线性回归最好的指标：$R^2$。<sup>[[1]](https://www.cnblogs.com/volcao/p/9104183.html)"
   ]
  },
  {
   "cell_type": "markdown",
   "metadata": {},
   "source": [
    "### 1.2.1 Sklearn 计算 MSE\n",
    "``` Python\n",
    "from sklearn.metrics import mean_squared_error\n",
    "from sklearn.linear_model import LinearRegression\n",
    "\n",
    "classifier = LinerRegression()\n",
    "classifier.fit(X, y)\n",
    "\n",
    "guesses = classifier.predict(X)\n",
    "\n",
    "error = mean_squared_error(y, guesses)\n",
    "```"
   ]
  },
  {
   "cell_type": "markdown",
   "metadata": {},
   "source": [
    "## 1.3 $R^2$\n",
    "\n",
    "为了拟合一组数据，最简单的方法就是取这组数据的均值并作直线，已知这个简单模型的 MSE 大于线性回归的 MSE ，然而大多少呢？因此类似于假设检验的检验统计量，我们将线性回顾的 MSE 除以简单模型的 MSE，用1减去这个分数，就得到了$R^2$ 分数:\n",
    "\n",
    "$$R^2=1-\\frac{\\sum_{i=1}^m(\\hat{y}^{(i)}-y^{(i)})^2}{\\sum_{i=1}^m(\\bar{y}-y^{(i)})^2} \\tag{3}$$\n",
    "\n",
    "$$\\quad\\quad\\quad=1-\\frac{(\\sum_{i=1}^m(\\hat{y}^{(i)}-y^{(i)})^2)/m}{(\\sum_{i=1}^m(y^{i}-\\bar{y})^2)/m} \\tag{4}$$\n",
    "\n",
    "$$=1-\\frac{MSE(\\hat{y}, y)}{Var(y)} \\tag{5}$$\n",
    "\n",
    "* $R^2\\in [-\\infty,1]$\n",
    "\n",
    "1. 如果这个回归模型不太好，则两个 MSE 将很接近，则$R^2$将趋于0；\n",
    "\n",
    "2. 如果这个回归模型很好，则回归模型的 MSE 应比简单模型的 MSE 小得多，因此$R^2$将趋于1\n",
    "\n",
    "3. 若$R^2 \\le 0$，则说明这个回归模型还不如简单模型（很可能数据不存在线性关系）。\n",
    "\n",
    "4. 因此，$R^2$越接近于1，则说明回归模型越好；$R^2$越接近于0，则说明回归模型越不好。\n",
    "\n",
    "<img style=\"float:center\" src=\"https://x1a-alioss.oss-cn-shenzhen.aliyuncs.com/Screen Shot 2019-08-08 at 22.52.31.png\" width=\"390\" >"
   ]
  },
  {
   "cell_type": "markdown",
   "metadata": {},
   "source": [
    "### 1.3.1 Sklearn 计算$R^2$"
   ]
  },
  {
   "cell_type": "code",
   "execution_count": 1,
   "metadata": {},
   "outputs": [
    {
     "data": {
      "text/plain": [
       "0.9078571428571429"
      ]
     },
     "execution_count": 1,
     "metadata": {},
     "output_type": "execute_result"
    }
   ],
   "source": [
    "from sklearn.metrics import r2_score\n",
    "\n",
    "y_true = [1, 2, 4]\n",
    "y_pred = [1.3, 2.5, 3.7]\n",
    "\n",
    "r2_score(y_true, y_pred)"
   ]
  },
  {
   "cell_type": "markdown",
   "metadata": {},
   "source": [
    "# 2 参考资料\n",
    "\n",
    "[1] Volcano！.机器学习：衡量线性回归法的指标（MSE、RMSE、MAE、R Squared）[EB/OL].https://www.cnblogs.com/volcao/p/9104183.html, 2018-05-29."
   ]
  }
 ],
 "metadata": {
  "kernelspec": {
   "display_name": "Python 3",
   "language": "python",
   "name": "python3"
  },
  "language_info": {
   "codemirror_mode": {
    "name": "ipython",
    "version": 3
   },
   "file_extension": ".py",
   "mimetype": "text/x-python",
   "name": "python",
   "nbconvert_exporter": "python",
   "pygments_lexer": "ipython3",
   "version": "3.7.3"
  },
  "toc": {
   "base_numbering": 1,
   "nav_menu": {},
   "number_sections": false,
   "sideBar": true,
   "skip_h1_title": false,
   "title_cell": "Table of Contents",
   "title_sidebar": "Contents",
   "toc_cell": true,
   "toc_position": {},
   "toc_section_display": true,
   "toc_window_display": false
  },
  "varInspector": {
   "cols": {
    "lenName": 16,
    "lenType": 16,
    "lenVar": 40
   },
   "kernels_config": {
    "python": {
     "delete_cmd_postfix": "",
     "delete_cmd_prefix": "del ",
     "library": "var_list.py",
     "varRefreshCmd": "print(var_dic_list())"
    },
    "r": {
     "delete_cmd_postfix": ") ",
     "delete_cmd_prefix": "rm(",
     "library": "var_list.r",
     "varRefreshCmd": "cat(var_dic_list()) "
    }
   },
   "types_to_exclude": [
    "module",
    "function",
    "builtin_function_or_method",
    "instance",
    "_Feature"
   ],
   "window_display": false
  }
 },
 "nbformat": 4,
 "nbformat_minor": 2
}
