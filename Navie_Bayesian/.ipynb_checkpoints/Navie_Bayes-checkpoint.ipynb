{
 "cells": [
  {
   "cell_type": "markdown",
   "metadata": {
    "toc": true
   },
   "source": [
    "<h1>Table of Contents<span class=\"tocSkip\"></span></h1>\n",
    "<div class=\"toc\"><ul class=\"toc-item\"><li><span><a href=\"#朴素贝叶斯-Naive-Bayes\" data-toc-modified-id=\"朴素贝叶斯-Naive-Bayes-1\"><span class=\"toc-item-num\">1&nbsp;&nbsp;</span>朴素贝叶斯 Naive Bayes</a></span><ul class=\"toc-item\"><li><span><a href=\"#概率论基础：\" data-toc-modified-id=\"概率论基础：-1.1\"><span class=\"toc-item-num\">1.1&nbsp;&nbsp;</span>概率论基础：</a></span></li><li><span><a href=\"#朴素贝叶斯（Naive-Bayes）\" data-toc-modified-id=\"朴素贝叶斯（Naive-Bayes）-1.2\"><span class=\"toc-item-num\">1.2&nbsp;&nbsp;</span>朴素贝叶斯（Naive Bayes）</a></span></li><li><span><a href=\"#实例\" data-toc-modified-id=\"实例-1.3\"><span class=\"toc-item-num\">1.3&nbsp;&nbsp;</span>实例</a></span><ul class=\"toc-item\"><li><span><a href=\"#数据导入\" data-toc-modified-id=\"数据导入-1.3.1\"><span class=\"toc-item-num\">1.3.1&nbsp;&nbsp;</span>数据导入</a></span></li><li><span><a href=\"#数据预处理\" data-toc-modified-id=\"数据预处理-1.3.2\"><span class=\"toc-item-num\">1.3.2&nbsp;&nbsp;</span>数据预处理</a></span></li><li><span><a href=\"#拆分训练集和测试集\" data-toc-modified-id=\"拆分训练集和测试集-1.3.3\"><span class=\"toc-item-num\">1.3.3&nbsp;&nbsp;</span>拆分训练集和测试集</a></span></li><li><span><a href=\"#Bag-of-Words\" data-toc-modified-id=\"Bag-of-Words-1.3.4\"><span class=\"toc-item-num\">1.3.4&nbsp;&nbsp;</span>Bag of Words</a></span><ul class=\"toc-item\"><li><span><a href=\"#Sklearn-实现-Bag-of-Words：CountVectorizer\" data-toc-modified-id=\"Sklearn-实现-Bag-of-Words：CountVectorizer-1.3.4.1\"><span class=\"toc-item-num\">1.3.4.1&nbsp;&nbsp;</span>Sklearn 实现 Bag of Words：CountVectorizer</a></span></li><li><span><a href=\"#count_vector-=-CountVectorizer(lowercase='True',-token_pattern,-stop_words)\" data-toc-modified-id=\"count_vector-=-CountVectorizer(lowercase='True',-token_pattern,-stop_words)-1.3.4.2\"><span class=\"toc-item-num\">1.3.4.2&nbsp;&nbsp;</span>count_vector = CountVectorizer(lowercase='True', token_pattern, stop_words)</a></span></li><li><span><a href=\"#count_vector.fit(data)\" data-toc-modified-id=\"count_vector.fit(data)-1.3.4.3\"><span class=\"toc-item-num\">1.3.4.3&nbsp;&nbsp;</span>count_vector.fit(data)</a></span></li><li><span><a href=\"#count_vector.transform(data)\" data-toc-modified-id=\"count_vector.transform(data)-1.3.4.4\"><span class=\"toc-item-num\">1.3.4.4&nbsp;&nbsp;</span>count_vector.transform(data)</a></span></li><li><span><a href=\"#结果可视化：\" data-toc-modified-id=\"结果可视化：-1.3.4.5\"><span class=\"toc-item-num\">1.3.4.5&nbsp;&nbsp;</span>结果可视化：</a></span></li></ul></li><li><span><a href=\"#使用-Scikit-learn-实现朴素贝叶斯\" data-toc-modified-id=\"使用-Scikit-learn-实现朴素贝叶斯-1.3.5\"><span class=\"toc-item-num\">1.3.5&nbsp;&nbsp;</span>使用 Scikit-learn 实现朴素贝叶斯</a></span></li><li><span><a href=\"#评估模型\" data-toc-modified-id=\"评估模型-1.3.6\"><span class=\"toc-item-num\">1.3.6&nbsp;&nbsp;</span>评估模型</a></span></li></ul></li><li><span><a href=\"#总结\" data-toc-modified-id=\"总结-1.4\"><span class=\"toc-item-num\">1.4&nbsp;&nbsp;</span>总结</a></span></li></ul></li></ul></div>"
   ]
  },
  {
   "cell_type": "markdown",
   "metadata": {},
   "source": [
    "# 朴素贝叶斯 Naive Bayes\n",
    "## 概率论基础：\n",
    "* 全概率公式：$P(B) = \\sum_{n=1}^NP(A_i)P(B|A_i)$;\n",
    "\n",
    "&emsp;&emsp;当n=2时，$P(B) = P(A_1)P(B|A_1)+P(A_2)P(B|A_2)$\n",
    "\n",
    "\n",
    "* 条件概率公式：$P(A|B)=\\frac{P(AB)}{P(B)}$\n",
    "\n",
    "\n",
    "* 贝叶斯公式：对于先验概率$P(A_i)$，有后验概率：\n",
    "\n",
    "$$P(A_i|B)=\\frac{P(A_iB)}{P(B)}=\\frac{P(A_i)P(B|A_i)}{\\sum_{n=1}^N\n",
    "P(A_i)P(B|A_i)}$$"
   ]
  },
  {
   "cell_type": "markdown",
   "metadata": {},
   "source": [
    "## 朴素贝叶斯（Naive Bayes）\n",
    "* 基本假设：`事件相互独立`，即$P(AB)=P(A)P(B)$\n",
    "\n",
    "\n",
    "* 由$P(A|B)=\\frac{P(AB)}{P(B)}=\\frac{P(A)P(B|A)}{P(B)}$可得：$P(A|B)P(B)=P(B|A)P(A)$\n",
    "\n",
    "\n",
    "* 在实际中经常省去$P(B)$，因此可得正比例关系：$P(A|B)\\varpropto P(B|A)P(A)$"
   ]
  },
  {
   "cell_type": "markdown",
   "metadata": {},
   "source": [
    "&emsp;&emsp;举个例子：假设Spam为垃圾邮件，ham为正常邮件；其中包含关键词easy、money，则：\n",
    "\n",
    "$$P(spam|easy, money)\\varpropto P(easy, money|spam)P(spam)$$\n",
    "\n",
    "&emsp;&emsp;由独立性可得：\n",
    "\n",
    "$$P(spam|easy, money)\\varpropto P(easy|spam)P(money|spam)P(spam)$$\n",
    "\n",
    "&emsp;&emsp;同理可得：\n",
    "\n",
    "$$P(ham|easy, money)\\varpropto P(easy|ham)P(money|ham)P(ham)$$\n",
    "\n",
    "&emsp;&emsp;代入概率值计算得：\n",
    "\n",
    "$$P(spam|easy, money)\\varpropto \\frac{1}{12}$$\n",
    "\n",
    "$$P(ham|easy, money)\\varpropto \\frac{1}{40}$$\n",
    "\n",
    "&emsp;&emsp;归一化得：\n",
    "\n",
    "$$P(spam|easy, money)=\\frac{10}{13}$$\n",
    "\n",
    "$$P(ham|easy, money)=\\frac{3}{13}$$"
   ]
  },
  {
   "cell_type": "markdown",
   "metadata": {},
   "source": [
    "## 实例"
   ]
  },
  {
   "cell_type": "code",
   "execution_count": 39,
   "metadata": {},
   "outputs": [],
   "source": [
    "import pandas as pd"
   ]
  },
  {
   "cell_type": "markdown",
   "metadata": {},
   "source": [
    "### 数据导入\n",
    "我们将使用来自 UCI 机器学习资源库中的[数据集](https://archive.ics.uci.edu/ml/datasets/SMS+Spam+Collection)，该资源库有大量供实验性研究的精彩数据集。[这是](https://archive.ics.uci.edu/ml/machine-learning-databases/00228/)直接数据链接。\n",
    "\n",
    "\n",
    "下面是该数据的预览：\n",
    "\n",
    "![](https://x1a-alioss.oss-cn-shenzhen.aliyuncs.com/dqnb.png)\n",
    "\n",
    "数据集中的列目前没有命名，可以看出有 2 列。\n",
    "\n",
    "第一列有两个值：“ham”，表示信息不是垃圾信息，以及“spam”，表示信息是垃圾信息。\n",
    "\n",
    "第二列是被分类的信息的文本内容。\n",
    "\n",
    "首先导入数据："
   ]
  },
  {
   "cell_type": "code",
   "execution_count": 40,
   "metadata": {},
   "outputs": [
    {
     "data": {
      "text/html": [
       "<div>\n",
       "<style scoped>\n",
       "    .dataframe tbody tr th:only-of-type {\n",
       "        vertical-align: middle;\n",
       "    }\n",
       "\n",
       "    .dataframe tbody tr th {\n",
       "        vertical-align: top;\n",
       "    }\n",
       "\n",
       "    .dataframe thead th {\n",
       "        text-align: right;\n",
       "    }\n",
       "</style>\n",
       "<table border=\"1\" class=\"dataframe\">\n",
       "  <thead>\n",
       "    <tr style=\"text-align: right;\">\n",
       "      <th></th>\n",
       "      <th>label</th>\n",
       "      <th>sms_message</th>\n",
       "    </tr>\n",
       "  </thead>\n",
       "  <tbody>\n",
       "    <tr>\n",
       "      <th>0</th>\n",
       "      <td>ham</td>\n",
       "      <td>Go until jurong point, crazy.. Available only ...</td>\n",
       "    </tr>\n",
       "    <tr>\n",
       "      <th>1</th>\n",
       "      <td>ham</td>\n",
       "      <td>Ok lar... Joking wif u oni...</td>\n",
       "    </tr>\n",
       "    <tr>\n",
       "      <th>2</th>\n",
       "      <td>spam</td>\n",
       "      <td>Free entry in 2 a wkly comp to win FA Cup fina...</td>\n",
       "    </tr>\n",
       "    <tr>\n",
       "      <th>3</th>\n",
       "      <td>ham</td>\n",
       "      <td>U dun say so early hor... U c already then say...</td>\n",
       "    </tr>\n",
       "    <tr>\n",
       "      <th>4</th>\n",
       "      <td>ham</td>\n",
       "      <td>Nah I don't think he goes to usf, he lives aro...</td>\n",
       "    </tr>\n",
       "  </tbody>\n",
       "</table>\n",
       "</div>"
      ],
      "text/plain": [
       "  label                                        sms_message\n",
       "0   ham  Go until jurong point, crazy.. Available only ...\n",
       "1   ham                      Ok lar... Joking wif u oni...\n",
       "2  spam  Free entry in 2 a wkly comp to win FA Cup fina...\n",
       "3   ham  U dun say so early hor... U c already then say...\n",
       "4   ham  Nah I don't think he goes to usf, he lives aro..."
      ]
     },
     "execution_count": 40,
     "metadata": {},
     "output_type": "execute_result"
    }
   ],
   "source": [
    "df = pd.read_csv('smsspamcollection/SMSSpamCollection',\n",
    "                   sep='\\t', \n",
    "                   header=None, \n",
    "                   names=['label', 'sms_message'])\n",
    "df.head(5)"
   ]
  },
  {
   "cell_type": "markdown",
   "metadata": {},
   "source": [
    "### 数据预处理\n",
    "\n",
    "我们已经大概了解数据集的结构，现在将标签转换为二元变量，0 表示“ham”（即非垃圾信息），1表示“spam”，这样比较方便计算。\n",
    "\n",
    "由于Scikit-learn 只处理数字值，因此如果标签值保留为字符串，scikit-learn 会自己进行转换（更确切地说，字符串标签将转型为未知浮点值）。\n",
    "\n",
    "如果标签保留为字符串，模型依然能够做出预测，但是稍后计算效果指标（例如计算精确率和召回率分数）时可能会遇到问题。因此，为了避免稍后出现意外的陷阱，最好将分类值转换为整数，再传入模型中。\n",
    "\n",
    ">**说明：**\n",
    "* 使用映射方法将“标签”列中的值转换为数字值，如下所示：\n",
    "{'ham':0, 'spam':1} 这样会将“ham”值映射为 0，将“spam”值映射为 1。\n",
    "* 此外，为了知道我们正在处理的数据集有多大，使用“shape”输出行数和列数"
   ]
  },
  {
   "cell_type": "code",
   "execution_count": 41,
   "metadata": {},
   "outputs": [
    {
     "name": "stdout",
     "output_type": "stream",
     "text": [
      "(5572, 2)\n"
     ]
    },
    {
     "data": {
      "text/html": [
       "<div>\n",
       "<style scoped>\n",
       "    .dataframe tbody tr th:only-of-type {\n",
       "        vertical-align: middle;\n",
       "    }\n",
       "\n",
       "    .dataframe tbody tr th {\n",
       "        vertical-align: top;\n",
       "    }\n",
       "\n",
       "    .dataframe thead th {\n",
       "        text-align: right;\n",
       "    }\n",
       "</style>\n",
       "<table border=\"1\" class=\"dataframe\">\n",
       "  <thead>\n",
       "    <tr style=\"text-align: right;\">\n",
       "      <th></th>\n",
       "      <th>label</th>\n",
       "      <th>sms_message</th>\n",
       "    </tr>\n",
       "  </thead>\n",
       "  <tbody>\n",
       "    <tr>\n",
       "      <th>0</th>\n",
       "      <td>0</td>\n",
       "      <td>Go until jurong point, crazy.. Available only ...</td>\n",
       "    </tr>\n",
       "    <tr>\n",
       "      <th>1</th>\n",
       "      <td>0</td>\n",
       "      <td>Ok lar... Joking wif u oni...</td>\n",
       "    </tr>\n",
       "    <tr>\n",
       "      <th>2</th>\n",
       "      <td>1</td>\n",
       "      <td>Free entry in 2 a wkly comp to win FA Cup fina...</td>\n",
       "    </tr>\n",
       "    <tr>\n",
       "      <th>3</th>\n",
       "      <td>0</td>\n",
       "      <td>U dun say so early hor... U c already then say...</td>\n",
       "    </tr>\n",
       "    <tr>\n",
       "      <th>4</th>\n",
       "      <td>0</td>\n",
       "      <td>Nah I don't think he goes to usf, he lives aro...</td>\n",
       "    </tr>\n",
       "  </tbody>\n",
       "</table>\n",
       "</div>"
      ],
      "text/plain": [
       "   label                                        sms_message\n",
       "0      0  Go until jurong point, crazy.. Available only ...\n",
       "1      0                      Ok lar... Joking wif u oni...\n",
       "2      1  Free entry in 2 a wkly comp to win FA Cup fina...\n",
       "3      0  U dun say so early hor... U c already then say...\n",
       "4      0  Nah I don't think he goes to usf, he lives aro..."
      ]
     },
     "execution_count": 41,
     "metadata": {},
     "output_type": "execute_result"
    }
   ],
   "source": [
    "df['label'] = df.label.map({'ham':0, 'spam':1})\n",
    "print(df.shape)\n",
    "df.head(5)"
   ]
  },
  {
   "cell_type": "markdown",
   "metadata": {},
   "source": [
    "### 拆分训练集和测试集\n",
    "\n",
    ">**说明：**\n",
    ">通过在 sklearn 中使用 train_test_split 方法，将数据集拆分为训练集和测试集。使用以下变量拆分数据：\n",
    "* `X_train` 是 'sms_message' 列的训练数据。\n",
    "* `y_train` 是 'label' 列的训练数据\n",
    "* `X_test` 是 'sms_message' 列的测试数据。\n",
    "* `y_test` 是 'label' 列的测试数据。\n",
    "输出每个训练数据和测试数据的行数。"
   ]
  },
  {
   "cell_type": "code",
   "execution_count": 42,
   "metadata": {},
   "outputs": [
    {
     "name": "stdout",
     "output_type": "stream",
     "text": [
      "Number of rows in the total set: 5572\n",
      "Number of rows in the training set: 4179\n",
      "Number of rows in the test set: 1393\n"
     ]
    }
   ],
   "source": [
    "from sklearn.model_selection import train_test_split\n",
    "\n",
    "X_train, X_test, y_train, y_test = train_test_split(df['sms_message'], \n",
    "                                                    df['label'], \n",
    "                                                    random_state=1)\n",
    "\n",
    "print('Number of rows in the total set: {}'.format(df.shape[0]))\n",
    "print('Number of rows in the training set: {}'.format(X_train.shape[0]))\n",
    "print('Number of rows in the test set: {}'.format(X_test.shape[0]))"
   ]
  },
  {
   "cell_type": "markdown",
   "metadata": {},
   "source": [
    "### Bag of Words\n",
    "\n",
    "我们的数据集中有大量文本数据（572 行数据）。大多数机器学习算法都要求传入的输入是数字数据，而电子邮件/信息通常都是文本。\n",
    "\n",
    "现在我们要介绍 Bag of Words (BoW) 这个概念，它用来表示要处理的问题具有“大量单词”或很多文本数据。BoW 的基本概念是拿出一段文本，计算该文本中单词的出现频率。注意：BoW 平等地对待每个单词，单词的出现顺序并不重要。\n",
    "\n",
    "利用我们将介绍的流程，我们可以将文档集合转换成矩阵，每个文档是一行，每个单词（令牌）是一列，对应的（行，列）值是每个单词或令牌在此文档中出现的频率。\n",
    "\n",
    "例如："
   ]
  },
  {
   "cell_type": "code",
   "execution_count": 43,
   "metadata": {},
   "outputs": [
    {
     "data": {
      "text/plain": [
       "710     4mths half price Orange line rental & latest c...\n",
       "3740                           Did you stitch his trouser\n",
       "2711    Hope you enjoyed your new content. text stop t...\n",
       "3155    Not heard from U4 a while. Call 4 rude chat pr...\n",
       "3748    Ü neva tell me how i noe... I'm not at home in...\n",
       "Name: sms_message, dtype: object"
      ]
     },
     "execution_count": 43,
     "metadata": {},
     "output_type": "execute_result"
    }
   ],
   "source": [
    "X_train.head()"
   ]
  },
  {
   "cell_type": "markdown",
   "metadata": {},
   "source": [
    "我们的目标是将这组文本转换为频率分布矩阵，如下所示：\n",
    "\n",
    "<img src=\"https://x1a-alioss.oss-cn-shenzhen.aliyuncs.com/countvectorizer.png\" height=\"542\" width=\"542\">\n",
    "\n",
    "从图中可以看出，文档在行中进行了编号，每个单词是一个列名称，相应的值是该单词在文档中出现的频率。\n",
    "\n",
    "我们详细讲解下，看看如何使用一小组文档进行转换。"
   ]
  },
  {
   "cell_type": "markdown",
   "metadata": {},
   "source": [
    "#### Sklearn 实现 Bag of Words：CountVectorizer"
   ]
  },
  {
   "cell_type": "code",
   "execution_count": 44,
   "metadata": {},
   "outputs": [],
   "source": [
    "from sklearn.feature_extraction.text import CountVectorizer\n",
    "\n",
    "# Instantiate the CountVectorizer method\n",
    "count_vector = CountVectorizer(token_pattern='(?u)\\\\b\\\\w\\\\w+\\\\b', stop_words='english')\n",
    "\n",
    "# 拟合并转换训练集（不能将测试集也fit，这违背了基本原则）\n",
    "training_data = count_vector.fit_transform(X_train)\n",
    "\n",
    "# Transform testing data and return the matrix. Note we are not fitting the testing data into the CountVectorizer()\n",
    "testing_data = count_vector.transform(X_test)"
   ]
  },
  {
   "cell_type": "markdown",
   "metadata": {},
   "source": [
    "#### count_vector = CountVectorizer(lowercase='True', token_pattern, stop_words)\n",
    "要处理这一步，我们使用 sklearns \n",
    "[count vectorizer](http://scikit-learn.org/stable/modules/generated/sklearn.feature_extraction.text.CountVectorizer.html#sklearn.feature_extraction.text.CountVectorizer) 方法，该方法的作用如下所示：\n",
    "\n",
    "* 它会令牌化字符串（将字符串划分为单个单词）并为每个令牌设定一个整型 ID。\n",
    "* 它会计算每个令牌的出现次数。\n",
    "\n",
    "参数设置：\n",
    "\n",
    "* `lowercase='True'`：CountVectorizer 方法会自动将所有令牌化单词转换为小写形式，避免区分“He”和“he”等单词。\n",
    "* `token_pattern`：CountVectorizer 方法会自动忽略所有标点符号，避免区分后面有标点的单词（例如“hello!”）和前后没有标点的同一单词（例如“hello”）`token_pattern` 参数具有默认正则表达式值 `(?u)\\\\b\\\\w\\\\w+\\\\b`，它会忽略所有标点符号并将它们当做分隔符，并将长度大于等于 2 的字母数字字符串当做单个令牌或单词。\n",
    "* `stop_words`：停用词是指某个语言中最常用的字词，包括“am”、“an”、“and”、“the”等。 通过将此参数值设为 `english`，CountVectorizer 将自动忽略（输入文本中）出现在 scikit-learn 中的内置英语停用词列表中的所有单词。这非常有用，因为当我们尝试查找表明是垃圾内容的某些单词时，停用词会使我们的结论出现偏差。\n",
    "\n"
   ]
  },
  {
   "cell_type": "markdown",
   "metadata": {},
   "source": [
    "#### count_vector.fit(data) \n",
    "`fit()` 将文档数据集与 CountVectorizer 对象进行拟合\n",
    "\n",
    "#### count_vector.transform(data)\n",
    "\n",
    "`transform()` 方法会返回一个 numpy 整数矩阵，可以使用 toarray() 将其转换为数组\n"
   ]
  },
  {
   "cell_type": "markdown",
   "metadata": {},
   "source": [
    "#### 结果可视化：\n",
    "\n",
    "`get_feature_names()` 方法会返回此数据集的特征名称，即组成数据词汇表的单词集合。\n",
    "\n",
    "`transform()` 方法会返回一个 numpy 整数矩阵，可以使用 toarray() 将其转换为数组"
   ]
  },
  {
   "cell_type": "code",
   "execution_count": 46,
   "metadata": {},
   "outputs": [
    {
     "data": {
      "text/html": [
       "<div>\n",
       "<style scoped>\n",
       "    .dataframe tbody tr th:only-of-type {\n",
       "        vertical-align: middle;\n",
       "    }\n",
       "\n",
       "    .dataframe tbody tr th {\n",
       "        vertical-align: top;\n",
       "    }\n",
       "\n",
       "    .dataframe thead th {\n",
       "        text-align: right;\n",
       "    }\n",
       "</style>\n",
       "<table border=\"1\" class=\"dataframe\">\n",
       "  <thead>\n",
       "    <tr style=\"text-align: right;\">\n",
       "      <th></th>\n",
       "      <th>00</th>\n",
       "      <th>000</th>\n",
       "      <th>008704050406</th>\n",
       "      <th>0121</th>\n",
       "      <th>01223585236</th>\n",
       "      <th>01223585334</th>\n",
       "      <th>0125698789</th>\n",
       "      <th>02</th>\n",
       "      <th>0207</th>\n",
       "      <th>02072069400</th>\n",
       "      <th>...</th>\n",
       "      <th>zed</th>\n",
       "      <th>zeros</th>\n",
       "      <th>zhong</th>\n",
       "      <th>zindgi</th>\n",
       "      <th>zoe</th>\n",
       "      <th>zoom</th>\n",
       "      <th>zouk</th>\n",
       "      <th>zyada</th>\n",
       "      <th>èn</th>\n",
       "      <th>〨ud</th>\n",
       "    </tr>\n",
       "  </thead>\n",
       "  <tbody>\n",
       "    <tr>\n",
       "      <th>0</th>\n",
       "      <td>0</td>\n",
       "      <td>0</td>\n",
       "      <td>0</td>\n",
       "      <td>0</td>\n",
       "      <td>0</td>\n",
       "      <td>0</td>\n",
       "      <td>0</td>\n",
       "      <td>0</td>\n",
       "      <td>0</td>\n",
       "      <td>0</td>\n",
       "      <td>...</td>\n",
       "      <td>0</td>\n",
       "      <td>0</td>\n",
       "      <td>0</td>\n",
       "      <td>0</td>\n",
       "      <td>0</td>\n",
       "      <td>0</td>\n",
       "      <td>0</td>\n",
       "      <td>0</td>\n",
       "      <td>0</td>\n",
       "      <td>0</td>\n",
       "    </tr>\n",
       "    <tr>\n",
       "      <th>1</th>\n",
       "      <td>0</td>\n",
       "      <td>0</td>\n",
       "      <td>0</td>\n",
       "      <td>0</td>\n",
       "      <td>0</td>\n",
       "      <td>0</td>\n",
       "      <td>0</td>\n",
       "      <td>0</td>\n",
       "      <td>0</td>\n",
       "      <td>0</td>\n",
       "      <td>...</td>\n",
       "      <td>0</td>\n",
       "      <td>0</td>\n",
       "      <td>0</td>\n",
       "      <td>0</td>\n",
       "      <td>0</td>\n",
       "      <td>0</td>\n",
       "      <td>0</td>\n",
       "      <td>0</td>\n",
       "      <td>0</td>\n",
       "      <td>0</td>\n",
       "    </tr>\n",
       "    <tr>\n",
       "      <th>2</th>\n",
       "      <td>0</td>\n",
       "      <td>0</td>\n",
       "      <td>0</td>\n",
       "      <td>0</td>\n",
       "      <td>0</td>\n",
       "      <td>0</td>\n",
       "      <td>0</td>\n",
       "      <td>0</td>\n",
       "      <td>0</td>\n",
       "      <td>0</td>\n",
       "      <td>...</td>\n",
       "      <td>0</td>\n",
       "      <td>0</td>\n",
       "      <td>0</td>\n",
       "      <td>0</td>\n",
       "      <td>0</td>\n",
       "      <td>0</td>\n",
       "      <td>0</td>\n",
       "      <td>0</td>\n",
       "      <td>0</td>\n",
       "      <td>0</td>\n",
       "    </tr>\n",
       "    <tr>\n",
       "      <th>3</th>\n",
       "      <td>0</td>\n",
       "      <td>0</td>\n",
       "      <td>0</td>\n",
       "      <td>0</td>\n",
       "      <td>0</td>\n",
       "      <td>1</td>\n",
       "      <td>0</td>\n",
       "      <td>0</td>\n",
       "      <td>0</td>\n",
       "      <td>0</td>\n",
       "      <td>...</td>\n",
       "      <td>0</td>\n",
       "      <td>0</td>\n",
       "      <td>0</td>\n",
       "      <td>0</td>\n",
       "      <td>0</td>\n",
       "      <td>0</td>\n",
       "      <td>0</td>\n",
       "      <td>0</td>\n",
       "      <td>0</td>\n",
       "      <td>0</td>\n",
       "    </tr>\n",
       "    <tr>\n",
       "      <th>4</th>\n",
       "      <td>0</td>\n",
       "      <td>0</td>\n",
       "      <td>0</td>\n",
       "      <td>0</td>\n",
       "      <td>0</td>\n",
       "      <td>0</td>\n",
       "      <td>0</td>\n",
       "      <td>0</td>\n",
       "      <td>0</td>\n",
       "      <td>0</td>\n",
       "      <td>...</td>\n",
       "      <td>0</td>\n",
       "      <td>0</td>\n",
       "      <td>0</td>\n",
       "      <td>0</td>\n",
       "      <td>0</td>\n",
       "      <td>0</td>\n",
       "      <td>0</td>\n",
       "      <td>0</td>\n",
       "      <td>0</td>\n",
       "      <td>0</td>\n",
       "    </tr>\n",
       "  </tbody>\n",
       "</table>\n",
       "<p>5 rows × 7204 columns</p>\n",
       "</div>"
      ],
      "text/plain": [
       "   00  000  008704050406  0121  01223585236  01223585334  0125698789  02  \\\n",
       "0   0    0             0     0            0            0           0   0   \n",
       "1   0    0             0     0            0            0           0   0   \n",
       "2   0    0             0     0            0            0           0   0   \n",
       "3   0    0             0     0            0            1           0   0   \n",
       "4   0    0             0     0            0            0           0   0   \n",
       "\n",
       "   0207  02072069400  ...  zed  zeros  zhong  zindgi  zoe  zoom  zouk  zyada  \\\n",
       "0     0            0  ...    0      0      0       0    0     0     0      0   \n",
       "1     0            0  ...    0      0      0       0    0     0     0      0   \n",
       "2     0            0  ...    0      0      0       0    0     0     0      0   \n",
       "3     0            0  ...    0      0      0       0    0     0     0      0   \n",
       "4     0            0  ...    0      0      0       0    0     0     0      0   \n",
       "\n",
       "   èn  〨ud  \n",
       "0   0    0  \n",
       "1   0    0  \n",
       "2   0    0  \n",
       "3   0    0  \n",
       "4   0    0  \n",
       "\n",
       "[5 rows x 7204 columns]"
      ]
     },
     "execution_count": 46,
     "metadata": {},
     "output_type": "execute_result"
    }
   ],
   "source": [
    "doc_array = count_vector.transform(X_train).toarray()\n",
    "count_vector.get_feature_names()\n",
    "frequency_matrix = pd.DataFrame(doc_array, columns=count_vector.get_feature_names())\n",
    "frequency_matrix.head(5)"
   ]
  },
  {
   "cell_type": "markdown",
   "metadata": {},
   "source": [
    "### 使用 Scikit-learn 实现朴素贝叶斯\n",
    "\n",
    "* GaussianNB：应用于任意连续数据\n",
    "\n",
    "* Bernoullinb：假定输入数据为二分类数据（主要用于文本数据分类）\n",
    "\n",
    "* MultinomialNB：假定输入数据为计数数据（主要用于文本数据分类）"
   ]
  },
  {
   "cell_type": "code",
   "execution_count": 47,
   "metadata": {},
   "outputs": [],
   "source": [
    "from sklearn.naive_bayes import MultinomialNB\n",
    "naive_bayes = MultinomialNB()\n",
    "naive_bayes.fit(training_data, y_train)\n",
    "predictions = naive_bayes.predict(testing_data)"
   ]
  },
  {
   "cell_type": "markdown",
   "metadata": {},
   "source": [
    "### 评估模型\n",
    "\n",
    "\n",
    "我们已经对测试集进行了预测，下一个目标是评估模型的效果。我们可以采用各种衡量指标，但首先快速总结下这些指标。\n",
    "\n",
    "`准确率`衡量的是分类器做出正确预测的概率，即正确预测的数量与预测总数（测试数据点的数量）之比。\n",
    "\n",
    "`精确率`指的是分类为垃圾信息的信息实际上是垃圾信息的概率，即真正例（分类为垃圾内容并且实际上是垃圾内容的单词）与所有正例（所有分类为垃圾内容的单词，无论是否分类正确）之比，换句话说，是以下公式的比值结果：\n",
    "\n",
    "`[True Positives/(True Positives + False Positives)]`\n",
    "\n",
    "`召回率（敏感性）`表示实际上为垃圾信息并且被分类为垃圾信息的信息所占比例，即真正例（分类为垃圾内容并且实际上是垃圾内容的单词）与所有为垃圾内容的单词之比，换句话说，是以下公式的比值结果：\n",
    "\n",
    "`[True Positives/(True Positives + False Negatives)]`\n",
    "\n",
    "对于偏态分类分布问题（我们的数据集就属于偏态分类），例如如果有 100 条信息，只有 2 条是垃圾信息，剩下的 98 条不是，则准确率本身并不是很好的指标。我们将 90 条信息分类为非垃圾信息（包括 2 条垃圾信息，但是我们将其分类为非垃圾信息，因此它们属于假负例），并将 10 条信息分类为垃圾信息（所有 10 条都是假正例），依然会获得比较高的准确率分数。对于此类情形，精确率和召回率非常实用。可以通过这两个指标获得 F1 分数，即精确率和召回率分数的加权平均值。该分数的范围是 0 到 1，1 表示最佳潜在 `F1 分数`。\n",
    "\n",
    "我们将使用所有四个指标确保我们的模型效果很好。这四个指标的值范围都在 0 到 1 之间，分数尽量接近 1 可以很好地表示模型的效果如何。"
   ]
  },
  {
   "cell_type": "code",
   "execution_count": 48,
   "metadata": {},
   "outputs": [
    {
     "name": "stdout",
     "output_type": "stream",
     "text": [
      "Accuracy score:  0.9877961234745154\n",
      "Precision score:  0.9615384615384616\n",
      "Recall score:  0.9459459459459459\n",
      "F1 score:  0.9536784741144414\n"
     ]
    }
   ],
   "source": [
    "from sklearn.metrics import accuracy_score, precision_score, recall_score, f1_score\n",
    "print('Accuracy score: ', format(accuracy_score(y_test, predictions)))\n",
    "print('Precision score: ', format(precision_score(y_test, predictions)))\n",
    "print('Recall score: ', format(recall_score(y_test, predictions)))\n",
    "print('F1 score: ', format(f1_score(y_test, predictions)))"
   ]
  },
  {
   "cell_type": "markdown",
   "metadata": {},
   "source": [
    "## 总结\n",
    "和其他分类算法相比，朴素贝叶斯具有的一大主要优势是能够处理大量特征。在我们的示例中，有数千个不同的单词，每个单词都被当做一个特征。此外，即使存在不相关的特征也有很好的效果，不容易受到这种特征的影响。另一个主要优势是相对比较简单。朴素贝叶斯完全可以直接使用，很少需要调整参数，除非通常分布数据已知的情况需要调整。\n",
    "它很少会过拟合数据。另一个重要优势是相对于它能处理的数据量来说，训练和预测速度很快。总之，朴素贝叶斯是非常实用的算法！"
   ]
  }
 ],
 "metadata": {
  "kernelspec": {
   "display_name": "Python 3",
   "language": "python",
   "name": "python3"
  },
  "language_info": {
   "codemirror_mode": {
    "name": "ipython",
    "version": 3
   },
   "file_extension": ".py",
   "mimetype": "text/x-python",
   "name": "python",
   "nbconvert_exporter": "python",
   "pygments_lexer": "ipython3",
   "version": "3.7.3"
  },
  "toc": {
   "base_numbering": 1,
   "nav_menu": {},
   "number_sections": true,
   "sideBar": true,
   "skip_h1_title": false,
   "title_cell": "Table of Contents",
   "title_sidebar": "Contents",
   "toc_cell": true,
   "toc_position": {
    "height": "calc(100% - 180px)",
    "left": "10px",
    "top": "150px",
    "width": "188px"
   },
   "toc_section_display": true,
   "toc_window_display": true
  },
  "varInspector": {
   "cols": {
    "lenName": 16,
    "lenType": 16,
    "lenVar": 40
   },
   "kernels_config": {
    "python": {
     "delete_cmd_postfix": "",
     "delete_cmd_prefix": "del ",
     "library": "var_list.py",
     "varRefreshCmd": "print(var_dic_list())"
    },
    "r": {
     "delete_cmd_postfix": ") ",
     "delete_cmd_prefix": "rm(",
     "library": "var_list.r",
     "varRefreshCmd": "cat(var_dic_list()) "
    }
   },
   "types_to_exclude": [
    "module",
    "function",
    "builtin_function_or_method",
    "instance",
    "_Feature"
   ],
   "window_display": false
  }
 },
 "nbformat": 4,
 "nbformat_minor": 2
}
