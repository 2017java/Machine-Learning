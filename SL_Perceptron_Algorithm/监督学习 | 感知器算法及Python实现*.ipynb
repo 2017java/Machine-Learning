{
 "cells": [
  {
   "cell_type": "markdown",
   "metadata": {
    "toc": true
   },
   "source": [
    "<h1>Table of Contents<span class=\"tocSkip\"></span></h1>\n",
    "<div class=\"toc\"><ul class=\"toc-item\"><li><span><a href=\"#1.-线性边界\" data-toc-modified-id=\"1.-线性边界-1\">1. 线性边界</a></span><ul class=\"toc-item\"><li><span><a href=\"#1.1-Boundray-Line\" data-toc-modified-id=\"1.1-Boundray-Line-1.1\">1.1 Boundray-Line</a></span></li><li><span><a href=\"#1.2-Boundray-Plane\" data-toc-modified-id=\"1.2-Boundray-Plane-1.2\">1.2 Boundray-Plane</a></span></li><li><span><a href=\"#1.3-(n-1)D-Boundray\" data-toc-modified-id=\"1.3-(n-1)D-Boundray-1.3\">1.3 (n-1)D Boundray</a></span></li></ul></li><li><span><a href=\"#2.-阶跃函数\" data-toc-modified-id=\"2.-阶跃函数-2\">2. 阶跃函数</a></span></li><li><span><a href=\"#3.-逻辑运算感知器\" data-toc-modified-id=\"3.-逻辑运算感知器-3\">3. 逻辑运算感知器</a></span><ul class=\"toc-item\"><li><span><a href=\"#3.1-And\" data-toc-modified-id=\"3.1-And-3.1\">3.1 And</a></span></li><li><span><a href=\"#3.2-Or\" data-toc-modified-id=\"3.2-Or-3.2\">3.2 Or</a></span></li><li><span><a href=\"#3.3-Not\" data-toc-modified-id=\"3.3-Not-3.3\">3.3 Not</a></span></li><li><span><a href=\"#3.4-XOR\" data-toc-modified-id=\"3.4-XOR-3.4\">3.4 XOR</a></span></li></ul></li><li><span><a href=\"#4.-感知器技巧\" data-toc-modified-id=\"4.-感知器技巧-4\">4. 感知器技巧</a></span><ul class=\"toc-item\"><li><span><a href=\"#4.1-错误点落在正区域（相减）\" data-toc-modified-id=\"4.1-错误点落在正区域（相减）-4.1\">4.1 错误点落在正区域（相减）</a></span></li><li><span><a href=\"#4.2-错误点落在负区域（相加）\" data-toc-modified-id=\"4.2-错误点落在负区域（相加）-4.2\">4.2 错误点落在负区域（相加）</a></span></li></ul></li><li><span><a href=\"#5.-Python实现感知器分类算法\" data-toc-modified-id=\"5.-Python实现感知器分类算法-5\">5. Python实现感知器分类算法</a></span></li></ul></div>"
   ]
  },
  {
   "cell_type": "markdown",
   "metadata": {},
   "source": [
    "# 1. 线性边界\n",
    "\n",
    "## 1.1 Boundray-Line\n",
    "\n",
    "当输入的数据含有两个特征时，其分类边界为一条直线：\n",
    "\n",
    "$$w_1x_1+w_2x_2+bias=0\\tag{1}$$\n",
    "\n",
    "- 数据的特征为：$x_1, x_2$\n",
    "\n",
    "- 特征的权重为：$w_1, w_2$\n",
    "\n",
    "- 偏置项：$bias$\n",
    "\n",
    "也可以表示为向量形式：\n",
    "\n",
    "$$Wx+b=0 \\tag{2}$$\n",
    "\n",
    "- $w=(w_1,w_2)$\n",
    "\n",
    "- $x=(x_1,x_2)$\n",
    "\n",
    "利用边界做出预测 $\\hat{y}$:\n",
    "\n",
    "\\begin{equation}\n",
    "\\hat{y}=\\left\\{\n",
    "\\begin{aligned}\n",
    "x & =  1 \\quad ( Wx+b\\geq0) \\\\\n",
    "y & =  0 \\quad ( Wx+b<0) \\\\\n",
    "\\end{aligned}\n",
    "\\right.\\tag{3}\n",
    "\\end{equation}\n",
    "\n",
    "<img style=\"float:center\" src=\"https://x1a-alioss.oss-cn-shenzhen.aliyuncs.com/0D43ED95-DAEE-4BEB-9C70-5ADB4FF88E11.png\" width=\"520\" >"
   ]
  },
  {
   "cell_type": "markdown",
   "metadata": {},
   "source": [
    "## 1.2 Boundray-Plane\n",
    "\n",
    "当输入变量有三个特征时，其分类边界为一个平面：\n",
    "\n",
    "$$w_1x_1+w_2x_2+w_3x_3+bias=0\\tag{4}$$\n",
    "\n",
    "- 数据的特征为：$x_1, x_2, x_3$\n",
    "\n",
    "- 特征的权重为：$w_1, w_2, w_3$\n",
    "\n",
    "- 偏置项：$bias$\n",
    "\n",
    "也可以表示为向量形式：\n",
    "\n",
    "$$Wx+b=0 \\tag{5}$$\n",
    "\n",
    "- $w=(w_1, w_2, w_3)$\n",
    "\n",
    "- $x=(x_1, x_2, x_3)$\n",
    "\n",
    "利用边界做出预测 $\\hat{y}$:\n",
    "\n",
    "\\begin{equation}\n",
    "\\hat{y}=\\left\\{\n",
    "\\begin{aligned}\n",
    "x & =  1 \\quad ( Wx+b\\geq0) \\\\\n",
    "y & =  0 \\quad ( Wx+b<0) \\\\\n",
    "\\end{aligned}\n",
    "\\right.\\tag{6}\n",
    "\\end{equation}\n",
    "\n",
    "<img style=\"float:center\" src=\"https://x1a-alioss.oss-cn-shenzhen.aliyuncs.com/Screen Shot 2019-07-20 at 12.39.09.png\" width=\"520\" >\n"
   ]
  },
  {
   "cell_type": "markdown",
   "metadata": {},
   "source": [
    "## 1.3 (n-1)D Boundray\n",
    "\n",
    "当输入变量有 n 个特征时，其分类边界为一个 (n-1) 维的平面：\n",
    "\n",
    "$$w_1x_1+w_2x_2+\\cdots+w_nx_n+bias=0\\tag{7}$$\n",
    "\n",
    "- 数据的特征为：$x_1, x_2,\\cdots ,x_n$\n",
    "\n",
    "- 特征的权重为：$w_1, w_2,\\cdots ,w_n$\n",
    "\n",
    "- 偏置项：$bias$\n",
    "\n",
    "也可以表示为向量形式：\n",
    "\n",
    "$$Wx+b=0 \\tag{8}$$\n",
    "\n",
    "- $w=(w_1, w_2,\\cdots ,w_n)$\n",
    "\n",
    "- $x=(x_1, x_2,\\cdots ,x_n)$\n",
    "\n",
    "利用边界做出预测 $\\hat{y}$:\n",
    "\n",
    "\\begin{equation}\n",
    "\\hat{y}=\\left\\{\n",
    "\\begin{aligned}\n",
    "x & =  1 \\quad ( Wx+b\\geq0) \\\\\n",
    "y & =  0 \\quad ( Wx+b<0) \\\\\n",
    "\\end{aligned}\n",
    "\\right.\\tag{9}\n",
    "\\end{equation}\n",
    "\n",
    "<img style=\"float:center\" src=\"https://x1a-alioss.oss-cn-shenzhen.aliyuncs.com/Screen Shot 2019-07-20 at 12.38.46.png\" width=\"520\" >\n"
   ]
  },
  {
   "cell_type": "markdown",
   "metadata": {},
   "source": [
    "# 2. 阶跃函数\n",
    "\n",
    "`阶跃函数`（Set Function）：如下所示，当 $x<0$ 时 $y = 0$ ，当 $x\\geq0$ 时，$y = 1$。\n",
    "<img style=\"float:center\" src=\"https://x1a-alioss.oss-cn-shenzhen.aliyuncs.com/Screen Shot 2019-08-13 at 16.14.42.png\" width=\"320\" >\n",
    "\n",
    "\\begin{equation}\n",
    "y=\\left\\{\n",
    "\\begin{aligned}\n",
    " 1 \\quad ( x\\geq0) \\\\\n",
    " 0 \\quad ( x<0) \\\\\n",
    "\\end{aligned}\n",
    "\\right.\\tag{10}\n",
    "\\end{equation}"
   ]
  },
  {
   "cell_type": "markdown",
   "metadata": {},
   "source": [
    "# 3. 逻辑运算感知器\n",
    "\n",
    "## 3.1 And\n",
    "\n",
    "And：且运算，只有当所有条件同时成立时才成立，如图所示：\n",
    "\n",
    "<img style=\"float:center\" src=\"https://x1a-alioss.oss-cn-shenzhen.aliyuncs.com/CABFB4A8-883C-4A1D-B8CB-97B9E9AC34C8.png\" width=\"520\" >\n",
    "\n",
    "Python 实现如下："
   ]
  },
  {
   "cell_type": "code",
   "execution_count": 1,
   "metadata": {},
   "outputs": [
    {
     "name": "stdout",
     "output_type": "stream",
     "text": [
      "You got it all correct.\n",
      "\n",
      " Input 1    Input 2    Linear Combination    Activation Output   Is Correct\n",
      "       0          0                  -1.5                    0          Yes\n",
      "       0          1                  -0.5                    0          Yes\n",
      "       1          0                  -0.5                    0          Yes\n",
      "       1          1                   0.5                    1          Yes\n"
     ]
    }
   ],
   "source": [
    "import pandas as pd\n",
    "\n",
    "weight1 = 1.0\n",
    "weight2 = 1.0\n",
    "bias = -1.5\n",
    "\n",
    "# Inputs and outputs\n",
    "test_inputs = [(0, 0), (0, 1), (1, 0), (1, 1)]\n",
    "correct_outputs = [False, False, False, True]\n",
    "outputs = []\n",
    "\n",
    "# Generate and check output\n",
    "for test_input, correct_output in zip(test_inputs, correct_outputs):\n",
    "    linear_combination = weight1 * test_input[0] + weight2 * test_input[1] + bias\n",
    "    output = int(linear_combination >= 0)\n",
    "    is_correct_string = 'Yes' if output == correct_output else 'No'\n",
    "    outputs.append([test_input[0], test_input[1], linear_combination, output, is_correct_string])\n",
    "\n",
    "# Print output\n",
    "num_wrong = len([output[4] for output in outputs if output[4] == 'No'])\n",
    "output_frame = pd.DataFrame(outputs, columns=['Input 1', '  Input 2', '  Linear Combination', '  Activation Output', '  Is Correct'])\n",
    "if not num_wrong:\n",
    "    print('You got it all correct.\\n')\n",
    "else:\n",
    "    print('You got {} wrong.  Keep trying!\\n'.format(num_wrong))\n",
    "print(output_frame.to_string(index=False))"
   ]
  },
  {
   "cell_type": "markdown",
   "metadata": {},
   "source": [
    "## 3.2 Or\n",
    "\n",
    "Or：或运算，当任意条件成立时，即成立，如图所示：\n",
    "\n",
    "<img style=\"float:center\" src=\"https://x1a-alioss.oss-cn-shenzhen.aliyuncs.com/BB139844-2C51-44A4-9317-B30DBEA6214E.png\" width=\"520\" >\n",
    "\n",
    "Python 实现：\n",
    "\n",
    "只需要将 And 逻辑感知器增大权重或减少偏差即可。"
   ]
  },
  {
   "cell_type": "markdown",
   "metadata": {},
   "source": [
    "## 3.3 Not\n",
    "Not：非运算，如果输入是 1，则运算返回 0，如果输入是 0，则返回 1，如图所示：\n",
    "\n",
    "Python 实现对第二个输入进行 NOT 运算，并忽略第一个输入："
   ]
  },
  {
   "cell_type": "code",
   "execution_count": 2,
   "metadata": {},
   "outputs": [
    {
     "name": "stdout",
     "output_type": "stream",
     "text": [
      "You got it all correct.\n",
      "\n",
      " Input 1    Input 2    Linear Combination    Activation Output   Is Correct\n",
      "       0          0                   0.9                    1          Yes\n",
      "       0          1                  -0.1                    0          Yes\n",
      "       1          0                   0.9                    1          Yes\n",
      "       1          1                  -0.1                    0          Yes\n"
     ]
    }
   ],
   "source": [
    "import pandas as pd\n",
    "\n",
    "weight1 = 0\n",
    "weight2 = -1.0\n",
    "bias = 0.9\n",
    "\n",
    "# Inputs and outputs\n",
    "test_inputs = [(0, 0), (0, 1), (1, 0), (1, 1)]\n",
    "correct_outputs = [True, False, True, False]\n",
    "outputs = []\n",
    "\n",
    "# Generate and check output\n",
    "for test_input, correct_output in zip(test_inputs, correct_outputs):\n",
    "    linear_combination = weight1 * test_input[0] + weight2 * test_input[1] + bias\n",
    "    output = int(linear_combination >= 0)\n",
    "    is_correct_string = 'Yes' if output == correct_output else 'No'\n",
    "    outputs.append([test_input[0], test_input[1], linear_combination, output, is_correct_string])\n",
    "\n",
    "# Print output\n",
    "num_wrong = len([output[4] for output in outputs if output[4] == 'No'])\n",
    "output_frame = pd.DataFrame(outputs, columns=['Input 1', '  Input 2', '  Linear Combination', '  Activation Output', '  Is Correct'])\n",
    "if not num_wrong:\n",
    "    print('You got it all correct.\\n')\n",
    "else:\n",
    "    print('You got {} wrong.  Keep trying!\\n'.format(num_wrong))\n",
    "print(output_frame.to_string(index=False))"
   ]
  },
  {
   "cell_type": "markdown",
   "metadata": {},
   "source": [
    "## 3.4 XOR\n",
    "\n",
    "XOR：异或运算，如果两个输入不同则返回 1，如果两个输入相同则返回 0，如图所示：\n",
    "\n",
    "<img style=\"float:center\" src=\"https://x1a-alioss.oss-cn-shenzhen.aliyuncs.com/Screen Shot 2019-07-20 at 13.38.01.png\" width=\"520\" >\n",
    "\n",
    "要实现 XOR 感知器，可以结合之前三个感知器，如下所示：\n",
    "\n",
    "<img style=\"float:center\" src=\"https://x1a-alioss.oss-cn-shenzhen.aliyuncs.com/Screen Shot 2019-07-20 at 13.43.32.png\" width=\"520\" >\n",
    "\n",
    "我们把 And + Not 感知器称为 NAND 与非运算。"
   ]
  },
  {
   "cell_type": "markdown",
   "metadata": {},
   "source": [
    "# 4. 感知器技巧\n",
    "* **思想**：随机生成一条直线，而后根据错误分类的点的坐标乘以学习率，与直线系数相加减，使得直线向该点靠近\n",
    "* **Learning Rate** 学习速率: 0.1/0.01"
   ]
  },
  {
   "cell_type": "markdown",
   "metadata": {},
   "source": [
    "## 4.1 错误点落在正区域（相减）\n",
    "\n",
    "当错误点落在正区域时，将直线的系数对应减去错误点坐标，其中偏置项始终减去 1，使得直线向错误点靠近。\n",
    "\n",
    "为了避免直线剧烈移动而出现过拟合现象，我们设置了学习率（Learning Rate），因此现在的算法变为将直线的系数减去缩小后错误点的坐标，如下：\n",
    "\n",
    "* **Line**: $3x_1+4x_2-10=0$\n",
    "* **Point**: (4,5)\n",
    "* **Bias unit**: 1\n",
    "* **Learning Rate**: 0.1\n",
    "* (3,4,-10) - 0.1*(4,5,1) = (2.6,3.5,-10.1)\n",
    "* **New Line**: $2.6x_1+3.5x_2-10.1=0$\n",
    "\n",
    "<img style=\"float:center\" src=\"https://x1a-alioss.oss-cn-shenzhen.aliyuncs.com/Screen Shot 2019-07-20 at 15.24.38.png\" width=\"520\" >\n"
   ]
  },
  {
   "cell_type": "markdown",
   "metadata": {},
   "source": [
    "## 4.2 错误点落在负区域（相加）\n",
    "\n",
    "当错误点落在负区域时，将直线的系数对应加上错误点坐标，其中偏置项始终加上 1，使得直线向错误点靠近。\n",
    "\n",
    "同样为了避免直线剧烈移动而出现过拟合现象，我们设置了学习率（Learning Rate），因此现在的算法变为将直线的系数减去加上后错误点的坐标，如下：\n",
    "\n",
    "* **Line**: $3x_1+4x_2-10=0$\n",
    "* **Point**: (1,1) \n",
    "* **Bias unit**: 1\n",
    "* **Learning Rate**: 0.1\n",
    "* (3,4,-10) - 0.1*(1,1,1) = (3.1,4.2,-9.9)\n",
    "* **New Line**: $3.1x_1+4.2x_2-9.9=0$\n",
    "\n",
    "<img style=\"float:center\" src=\"https://x1a-alioss.oss-cn-shenzhen.aliyuncs.com/Screen Shot 2019-07-20 at 15.24.20.png\" width=\"520\" >\n"
   ]
  },
  {
   "cell_type": "markdown",
   "metadata": {},
   "source": [
    "# 5. Python实现感知器分类算法\n",
    "\n",
    "思想：随机产生一条直线，并利用感知器技巧对不同类别的数据进行分类。\n",
    "\n",
    "伪代码如下：\n",
    "<img style=\"float:center\" src=\"https://x1a-alioss.oss-cn-shenzhen.aliyuncs.com/5709DD2D-6401-489A-B59F-5EA3E986A760.png\" width=\"520\" >\n",
    "\n",
    "Python 实现："
   ]
  },
  {
   "cell_type": "code",
   "execution_count": 3,
   "metadata": {},
   "outputs": [],
   "source": [
    "import numpy as np\n",
    "# Setting the random seed, feel free to change it and see different solutions.\n",
    "np.random.seed(42)\n",
    "\n",
    "def stepFunction(t):\n",
    "    if t >= 0:\n",
    "        return 1\n",
    "    return 0\n",
    "\n",
    "def prediction(X, W, b):\n",
    "    return stepFunction((np.matmul(X,W)+b)[0])\n",
    "\n",
    "# The function should receive as inputs the data X, the labels y,\n",
    "# the weights W (as an array), and the bias b,\n",
    "# update the weights and bias W, b, according to the perceptron algorithm,\n",
    "# and return W and b.\n",
    "def perceptronStep(X, y, W, b, learn_rate = 0.01):\n",
    "    for i in range(len(X)):\n",
    "        y_hat = prediction(X[i],W,b)\n",
    "        if y[i]-y_hat == 1: # Positive Point in Negative Area: 1-(0)=1\n",
    "            W[0] += X[i][0]*learn_rate\n",
    "            W[1] += X[i][1]*learn_rate\n",
    "            b += learn_rate\n",
    "        elif y[i]-y_hat == -1: # Negative Point in Positive Area: 0-(1)= 1\n",
    "            W[0] -= X[i][0]*learn_rate\n",
    "            W[1] -= X[i][1]*learn_rate\n",
    "            b -= learn_rate\n",
    "    return W, b\n",
    "    \n",
    "# This function runs the perceptron algorithm repeatedly on the dataset,\n",
    "# and returns a few of the boundary lines obtained in the iterations,\n",
    "# for plotting purposes.\n",
    "# Feel free to play with the learning rate and the num_epochs,\n",
    "# and see your results plotted below.\n",
    "def trainPerceptronAlgorithm(X, y, learn_rate = 0.01, num_epochs = 250):\n",
    "    x_min, x_max = min(X.T[0]), max(X.T[0])\n",
    "    y_min, y_max = min(X.T[1]), max(X.T[1])\n",
    "    W = np.array(np.random.rand(2,1))\n",
    "    b = np.random.rand(1)[0] + x_max\n",
    "    # These are the solution lines that get plotted below.\n",
    "    boundary_lines = []\n",
    "    for i in range(num_epochs):\n",
    "        # In each epoch, we apply the perceptron step.\n",
    "        W, b = perceptronStep(X, y, W, b, learn_rate)\n",
    "        boundary_lines.append((-W[0]/W[1], -b/W[1]))\n",
    "    return boundary_lines"
   ]
  }
 ],
 "metadata": {
  "kernelspec": {
   "display_name": "Python 3",
   "language": "python",
   "name": "python3"
  },
  "language_info": {
   "codemirror_mode": {
    "name": "ipython",
    "version": 3
   },
   "file_extension": ".py",
   "mimetype": "text/x-python",
   "name": "python",
   "nbconvert_exporter": "python",
   "pygments_lexer": "ipython3",
   "version": "3.7.3"
  },
  "toc": {
   "base_numbering": 1,
   "nav_menu": {},
   "number_sections": false,
   "sideBar": true,
   "skip_h1_title": false,
   "title_cell": "Table of Contents",
   "title_sidebar": "Contents",
   "toc_cell": true,
   "toc_position": {
    "height": "calc(100% - 180px)",
    "left": "10px",
    "top": "150px",
    "width": "256px"
   },
   "toc_section_display": true,
   "toc_window_display": true
  },
  "varInspector": {
   "cols": {
    "lenName": 16,
    "lenType": 16,
    "lenVar": 40
   },
   "kernels_config": {
    "python": {
     "delete_cmd_postfix": "",
     "delete_cmd_prefix": "del ",
     "library": "var_list.py",
     "varRefreshCmd": "print(var_dic_list())"
    },
    "r": {
     "delete_cmd_postfix": ") ",
     "delete_cmd_prefix": "rm(",
     "library": "var_list.r",
     "varRefreshCmd": "cat(var_dic_list()) "
    }
   },
   "types_to_exclude": [
    "module",
    "function",
    "builtin_function_or_method",
    "instance",
    "_Feature"
   ],
   "window_display": false
  }
 },
 "nbformat": 4,
 "nbformat_minor": 2
}
