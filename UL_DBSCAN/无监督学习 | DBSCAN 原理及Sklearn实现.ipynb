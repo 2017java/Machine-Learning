{
 "cells": [
  {
   "cell_type": "markdown",
   "metadata": {
    "toc": true
   },
   "source": [
    "<h1>Table of Contents<span class=\"tocSkip\"></span></h1>\n",
    "<div class=\"toc\"><ul class=\"toc-item\"><li><span><a href=\"#1.-密度聚类\" data-toc-modified-id=\"1.-密度聚类-1\">1. 密度聚类</a></span></li><li><span><a href=\"#2.-DBSCAN\" data-toc-modified-id=\"2.-DBSCAN-2\">2. DBSCAN</a></span><ul class=\"toc-item\"><li><span><a href=\"#2.1-算法原理\" data-toc-modified-id=\"2.1-算法原理-2.1\">2.1 算法原理</a></span></li></ul></li><li><span><a href=\"#3.-DBSCAN-优缺点\" data-toc-modified-id=\"3.-DBSCAN-优缺点-3\">3. DBSCAN 优缺点</a></span><ul class=\"toc-item\"><li><span><a href=\"#3.1-优点\" data-toc-modified-id=\"3.1-优点-3.1\">3.1 优点</a></span></li><li><span><a href=\"#3.2-缺点\" data-toc-modified-id=\"3.2-缺点-3.2\">3.2 缺点</a></span></li><li><span><a href=\"#3.3-与-KMeans-比较\" data-toc-modified-id=\"3.3-与-KMeans-比较-3.3\">3.3 与 KMeans 比较</a></span></li></ul></li><li><span><a href=\"#4.-SKlearn-实现\" data-toc-modified-id=\"4.-SKlearn-实现-4\">4. SKlearn 实现</a></span></li><li><span><a href=\"#5.-在线可视化-DBSCAN\" data-toc-modified-id=\"5.-在线可视化-DBSCAN-5\">5. 在线可视化 DBSCAN</a></span></li><li><span><a href=\"#参考文献\" data-toc-modified-id=\"参考文献-6\">参考文献</a></span></li></ul></div>"
   ]
  },
  {
   "cell_type": "markdown",
   "metadata": {},
   "source": [
    "相关文章：\n",
    "\n",
    "[机器学习 | 目录](https://blog.csdn.net/weixin_45488228/article/details/99691709)\n",
    "\n",
    "[机器学习 | 聚类评估指标](https://blog.csdn.net/weixin_45488228/article/details/100549820)\n",
    "\n",
    "[机器学习 | 距离计算](https://blog.csdn.net/weixin_45488228/article/details/100593643)\n",
    "\n",
    "[无监督学习 | KMeans 与 KMeans++ 原理](https://blog.csdn.net/weixin_45488228/article/details/100612021)\n",
    "\n",
    "[无监督学习 | GMM 高斯混合聚类原理及Sklearn实现](https://blog.csdn.net/weixin_45488228/article/details/102463264)"
   ]
  },
  {
   "cell_type": "markdown",
   "metadata": {},
   "source": [
    "# 1. 密度聚类\n",
    "\n",
    "密度聚类亦称“基于密度的聚类”（Density-Based Clustering），此类算法假设聚类结构能通过样本分布的紧密程度确定。通常情况下，密度聚类算法从样本密度的角度来考察样本之间的可连接性，并基于可连接样本不断扩展聚类簇以获得最终的聚类结果<sup>[1]</sup>。这类算法可以克服 [KMeans](https://blog.csdn.net/weixin_45488228/article/details/100612021)、BIRCH等只适用于凸样本集的情况。\n",
    "\n",
    "常用的密度聚类算法：DBSCAN、MDCA、OPTICS、DENCLUE等。<sup>[2]</sup>\n",
    "\n",
    "密度聚类的主要特点是：\n",
    "\n",
    "（1）发现任意形状的簇\n",
    "\n",
    "（2）对噪声数据不敏感\n",
    "\n",
    "（3）一次扫描\n",
    "\n",
    "（4）需要密度参数作为停止条件\n",
    "\n",
    "（5）计算量大、复杂度高"
   ]
  },
  {
   "cell_type": "markdown",
   "metadata": {},
   "source": [
    "# 2. DBSCAN\n",
    "\n",
    "`DBSCAN`（具有噪声的基于密度的空间聚类，Density-Based Spatial Clustering of Applications with Noise）是一种著名的密度聚类算法，它基于一组“邻域”（neighborhood）参数（$\\varepsilon, MinPts$）来刻画样本分布的紧密程度。"
   ]
  },
  {
   "cell_type": "markdown",
   "metadata": {},
   "source": [
    "首先我们通过一个简单的例子来介绍 DBSCAN，对于以下数据，我们任意选取一个点，定义一个以 $\\epsilon$ 为半径的邻域，若邻域内没有其他点，则这个点定义为`噪声`或异常点。\n",
    "\n",
    "<img style=\"float:center\" src=\"https://x1a-alioss.oss-cn-shenzhen.aliyuncs.com/Screen Shot 2019-10-09 at 18.38.29.png\" width=\"420\" >\n",
    "\n",
    "<center> 图1 邻域半径及噪声点 </center>"
   ]
  },
  {
   "cell_type": "markdown",
   "metadata": {},
   "source": [
    "若这个点不是噪声，则考虑第二个参数：`邻域内最少样本个数` $MinPts$，若某点邻域内最少样本个数不少于 $MinPts$，则这个点定义为`核心点`。对于该邻域内的非核心对象，定义为`边界点`，假设 $MinPts$=5 ，则聚类过程如下图所示：\n",
    "\n",
    "<img style=\"float:center\" src=\"https://x1a-alioss.oss-cn-shenzhen.aliyuncs.com/Screen Shot 2019-10-09 at 19.04.29.png\" width=\"420\" >\n",
    "\n",
    "<center> 图2 邻域内样本个数少于最少个数 </center>\n",
    "\n",
    "<img style=\"float:center\" src=\"https://x1a-alioss.oss-cn-shenzhen.aliyuncs.com/Screen Shot 2019-10-09 at 18.39.04.png\" width=\"420\" >\n",
    "\n",
    "<center> 图3 核心点与边界点 </center>\n",
    "\n",
    "同理，继续扫描其余的点，可得其他簇：\n",
    "\n",
    "<img style=\"float:center\" src=\"https://x1a-alioss.oss-cn-shenzhen.aliyuncs.com/Screen Shot 2019-10-09 at 18.39.16.png\" width=\"420\" >\n",
    "\n",
    "<center> 图4 两个不同的聚类簇 </center>"
   ]
  },
  {
   "cell_type": "markdown",
   "metadata": {},
   "source": [
    "下面，我们将通过严格的数学定义，来描述 DBSCAN 聚类算法。\n",
    "\n",
    "## 2.1 算法原理\n",
    "\n",
    "首先，给定数据集 $D=\\{x_1,x_2,...,x_m\\}$，我们定义下面几个概念：\n",
    "\n",
    "- $\\epsilon$ 邻域：对 $x_j \\in D$，其 $\\epsilon$ 邻域包含数据集 $D$ 中与 $x_j$ 的距离不大于 $\\epsilon$ 的样本，即 $N_{\\epsilon}=\\{x_o \\in D| dist(x_i,x_j \\leq \\epsilon) \\}$；\n",
    "\n",
    "- 核心对象（core object）：若 $x_j$ 的 $\\varepsilon$ 邻域至少包含 $MinPts$ 个样本，即 $|N_{\\epsilon}(x_j) \\geq MinPts|$，则 $x_j$ 是一个核心对象；\n",
    "\n",
    "- 密度直达（directly density-reachable）：若 $x_j$ 位于 $x_i$ 的 $\\epsilon$ 邻域中，且 $x_i$ 是核心对象，则称 $x_j$ 由 $x_i$ 密度直达；\n",
    "\n",
    "- 密度可达（density-reachable）：对 $x_i$ 与 $x_j$，若存在样本序列 $p_1,p_2,...,p_n$，其中 $p_1 = x_i,p_n=x_j$ 且 $p_{i+1}$ 由 $p_i$ 密度直达，则称 $x_i$ 由 $x_j$ 可达；\n",
    "\n",
    "- 密度相连（density-connected）：对 $x_i$ 与 $x_j$，若存在 $x_k$ 使得  $x_i$ 与 $x_j$ 均由 $x_k$ 密度可达，则称 $x_i$ 与 $x_j$ 密度相连。"
   ]
  },
  {
   "cell_type": "markdown",
   "metadata": {},
   "source": [
    "> 对于邻域中的距离函数 dist(⋅,⋅)，在默认情形下设为[欧式距离](https://blog.csdn.net/weixin_45488228/article/details/100593643)。"
   ]
  },
  {
   "cell_type": "markdown",
   "metadata": {},
   "source": [
    "下图给出了上述概念的直观显示，假设 $MinPts=3$：虚线显示出 $\\epsilon$ 邻域,$x_1$ 是核心对象， $x_2$ 由 $x_1$ 密度直达，$x_3$ 由 $x_1$ 密度可达，$x_3$ 与 $x_4$ 密度相连。\n",
    "\n",
    "<img style=\"float:center\" src=\"https://x1a-alioss.oss-cn-shenzhen.aliyuncs.com/Screen Shot 2019-10-09 at 20.21.54.png\" width=\"520\" >\n",
    "\n",
    "<center> 图4 样本点划分示意图 </center>"
   ]
  },
  {
   "cell_type": "markdown",
   "metadata": {},
   "source": [
    "***\n",
    "\n",
    "基于这些概念，DBSCAN 将“`簇`”定义为：**密度可达关系导出的最大的密度相连样本集合**。形式化地说，给定邻域参数（$\\epsilon,MinPts$），簇 $C \\subseteq D$ 是满足以下性质的非空样本子集：\n",
    "\n",
    "$$连接性（connectivity）：x_i \\in C,x_j \\in C \\Rightarrow x_i 与 x_j 密度相连 \\tag{1} $$\n",
    "\n",
    "$$最大性（maximality）：x_i \\in C,x_j 由 x_i 密度可达 \\Rightarrow x_j \\in C \\tag{2}$$"
   ]
  },
  {
   "cell_type": "markdown",
   "metadata": {},
   "source": [
    "若 $x$ 为核心对象，则 $x$ 密度可达的所有样本组成的集合记为 $X=\\{x' \\in D| x' 由 x 密度可达\\}$，其中 $X$ 为满足连接性和最大性的簇。"
   ]
  },
  {
   "cell_type": "markdown",
   "metadata": {},
   "source": [
    "于是，DBSCAN 算法先任选数据集中的一个核心对象为“种子”（seed），再由此出发确定相应的聚类簇。\n",
    "\n",
    "算法描述如下图所示，\n",
    "\n",
    "- 在第 1-7 行中，算法先根据给定的邻域参数（$\\epsilon,MinPts$）找出所有核心对象；\n",
    "\n",
    "- 在第 10-24 行中，以任一核心对象为出发点，找出由密度可达的样本以生成聚类簇，知道所有核心对象均被访问过为止。\n",
    "\n",
    "<img style=\"float:center\" src=\"https://x1a-alioss.oss-cn-shenzhen.aliyuncs.com/Screen Shot 2019-10-09 at 20.55.20.png\" width=\"520\" >\n",
    "\n",
    "<center> 图5 DBSCAN 算法</center>"
   ]
  },
  {
   "cell_type": "markdown",
   "metadata": {},
   "source": [
    "# 3. DBSCAN 优缺点\n",
    "\n",
    "## 3.1 优点\n",
    "\n",
    "（1）不用指明类别数量；\n",
    "\n",
    "（2）能灵活找到并分离各种形状和大小的类；\n",
    "\n",
    "（3）能很好地处理噪声和离群点。\n",
    "\n",
    "## 3.2 缺点\n",
    "\n",
    "（1）对于从两个类均可达的边界点，由于各个点是被随机访问的，因此 DBSCAN 不能保证每次都返回相同聚类；\n",
    "\n",
    "（2）在不同密度的类方面有一定难度。"
   ]
  },
  {
   "cell_type": "markdown",
   "metadata": {},
   "source": [
    "## 3.3 与 KMeans 比较\n",
    "\n",
    "从下面的图中可以看出，DBSCAN 在不规则的数据上，能更好地分类。\n",
    "\n",
    "<img style=\"float:center\" src=\"https://x1a-alioss.oss-cn-shenzhen.aliyuncs.com/Screen Shot 2019-10-09 at 19.40.21.png\">\n",
    "\n",
    "<center> 图6 DBCASAN 与 KMeans 聚类效果比较</center>"
   ]
  },
  {
   "cell_type": "markdown",
   "metadata": {},
   "source": [
    "# 4. SKlearn 实现\n",
    "\n",
    "[sklearn.cluster.DBSCAN](https://scikit-learn.org/stable/modules/generated/sklearn.cluster.DBSCAN.html#sklearn.cluster.DBSCAN)(eps=0.5, min_samples=5, metric=’euclidean’, metric_params=None, algorithm=’auto’, leaf_size=30, p=None, n_jobs=None)\n",
    "\n",
    "**eps** : float, optional 【$\\epsilon$】\n",
    "\n",
    "    The maximum distance between two samples for one to be considered as in the neighborhood of the other. This is not a maximum bound on the distances of points within a cluster. This is the most important DBSCAN parameter to choose appropriately for your data set and distance function.\n",
    "\n",
    "**min_samples** : int, optional 【$MinPts$】\n",
    "\n",
    "    The number of samples (or total weight) in a neighborhood for a point to be considered as a core point. This includes the point itself."
   ]
  },
  {
   "cell_type": "markdown",
   "metadata": {},
   "source": [
    "# 5. 在线可视化 DBSCAN\n",
    "\n",
    "你可以通过[这个网站](https://www.naftaliharris.com/blog/visualizing-dbscan-clustering/)选择样本分布和参数，并在线可视化 DBSCAN 聚类的过程。\n",
    "\n",
    "<img style=\"float:center\" src=\"https://x1a-alioss.oss-cn-shenzhen.aliyuncs.com/Screen Shot 2019-10-09 at 19.31.06.png\" width=\"520\" >"
   ]
  },
  {
   "cell_type": "markdown",
   "metadata": {},
   "source": [
    "# 参考文献\n",
    "\n",
    "[1] 周志华. 机器学习[M]. 北京: 清华大学出版社, 2016: 211.\n",
    "\n",
    "[2] liuy9803.机器学习之密度聚类算法[EB/OL].https://blog.csdn.net/liuy9803/article/details/80812489, 2018-06-26 ."
   ]
  }
 ],
 "metadata": {
  "kernelspec": {
   "display_name": "Python 3",
   "language": "python",
   "name": "python3"
  },
  "language_info": {
   "codemirror_mode": {
    "name": "ipython",
    "version": 3
   },
   "file_extension": ".py",
   "mimetype": "text/x-python",
   "name": "python",
   "nbconvert_exporter": "python",
   "pygments_lexer": "ipython3",
   "version": "3.7.3"
  },
  "toc": {
   "base_numbering": 1,
   "nav_menu": {},
   "number_sections": false,
   "sideBar": true,
   "skip_h1_title": false,
   "title_cell": "Table of Contents",
   "title_sidebar": "Contents",
   "toc_cell": true,
   "toc_position": {
    "height": "calc(100% - 180px)",
    "left": "10px",
    "top": "150px",
    "width": "256px"
   },
   "toc_section_display": true,
   "toc_window_display": true
  },
  "varInspector": {
   "cols": {
    "lenName": 16,
    "lenType": 16,
    "lenVar": 40
   },
   "kernels_config": {
    "python": {
     "delete_cmd_postfix": "",
     "delete_cmd_prefix": "del ",
     "library": "var_list.py",
     "varRefreshCmd": "print(var_dic_list())"
    },
    "r": {
     "delete_cmd_postfix": ") ",
     "delete_cmd_prefix": "rm(",
     "library": "var_list.r",
     "varRefreshCmd": "cat(var_dic_list()) "
    }
   },
   "types_to_exclude": [
    "module",
    "function",
    "builtin_function_or_method",
    "instance",
    "_Feature"
   ],
   "window_display": false
  }
 },
 "nbformat": 4,
 "nbformat_minor": 2
}
