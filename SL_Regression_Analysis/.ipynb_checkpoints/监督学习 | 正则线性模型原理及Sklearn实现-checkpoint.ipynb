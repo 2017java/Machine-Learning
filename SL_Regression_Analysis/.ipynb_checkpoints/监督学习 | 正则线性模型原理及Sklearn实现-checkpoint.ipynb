{
 "cells": [
  {
   "cell_type": "markdown",
   "metadata": {
    "toc": true
   },
   "source": [
    "<h1>Table of Contents<span class=\"tocSkip\"></span></h1>\n",
    "<div class=\"toc\"><ul class=\"toc-item\"><li><span><a href=\"#1.-正则线性模型\" data-toc-modified-id=\"1.-正则线性模型-1\">1. 正则线性模型</a></span><ul class=\"toc-item\"><li><span><a href=\"#4.1-套索回归（L1正则化）\" data-toc-modified-id=\"4.1-套索回归（L1正则化）-1.1\">4.1 套索回归（L1正则化）</a></span></li><li><span><a href=\"#4.2-岭回归（L2正则化）\" data-toc-modified-id=\"4.2-岭回归（L2正则化）-1.2\">4.2 岭回归（L2正则化）</a></span></li><li><span><a href=\"#4.3-弹性网络回归（L1&amp;L2）\" data-toc-modified-id=\"4.3-弹性网络回归（L1&amp;L2）-1.3\">4.3 弹性网络回归（L1&amp;L2）</a></span></li></ul></li></ul></div>"
   ]
  },
  {
   "cell_type": "markdown",
   "metadata": {},
   "source": [
    "# 1. 正则线性模型\n",
    "\n",
    "参考：机器学习实战p121-126\n",
    "\n",
    "**Lamda Parameter**:\n",
    "* Small: Choose Complex Model\n",
    "* Large: Choose Simpler Moder\n",
    "![d971145b418eacaf61ea42b5f9705a3f](线性回归 - Linear Regression.resources/062F8E59-828C-4E6D-8C76-5D1E52A938B5.png)\n",
    "![c1e465e11ce4f6f36c35e316073934ce](线性回归 - Linear Regression.resources/E9B8DABF-A90B-40AF-A1A4-093B24A05292.png)"
   ]
  },
  {
   "cell_type": "markdown",
   "metadata": {},
   "source": [
    "## 4.1 套索回归（L1正则化）\n",
    "\n",
    "Lasso Regression\n",
    "\n",
    "* 适用于稀疏数据（如1000列数据中只有10列相关）\n",
    "![e11404ca400bd5380f190f4643819893](线性回归 - Linear Regression.resources/740850D9-B056-449D-AB6D-0150FAE76561.png)"
   ]
  },
  {
   "cell_type": "markdown",
   "metadata": {},
   "source": [
    "## 4.2 岭回归（L2正则化）\n",
    "\n",
    "Ridge Regression\n",
    "\n",
    "* 适用于非稀疏数据\n",
    "![201db7d35ce6ac39c6d62ed465bd3ba8](线性回归 - Linear Regression.resources/17C773A0-5F68-4E37-8A56-52D57B88926A.png)\n",
    "\n",
    "* * *"
   ]
  },
  {
   "cell_type": "markdown",
   "metadata": {},
   "source": []
  },
  {
   "cell_type": "markdown",
   "metadata": {},
   "source": [
    "## 4.3 弹性网络回归（L1&L2）\n",
    "\n",
    "Elastic Net"
   ]
  },
  {
   "cell_type": "code",
   "execution_count": null,
   "metadata": {},
   "outputs": [],
   "source": []
  }
 ],
 "metadata": {
  "kernelspec": {
   "display_name": "Python 3",
   "language": "python",
   "name": "python3"
  },
  "language_info": {
   "codemirror_mode": {
    "name": "ipython",
    "version": 3
   },
   "file_extension": ".py",
   "mimetype": "text/x-python",
   "name": "python",
   "nbconvert_exporter": "python",
   "pygments_lexer": "ipython3",
   "version": "3.7.3"
  },
  "toc": {
   "base_numbering": 1,
   "nav_menu": {},
   "number_sections": false,
   "sideBar": true,
   "skip_h1_title": false,
   "title_cell": "Table of Contents",
   "title_sidebar": "Contents",
   "toc_cell": true,
   "toc_position": {},
   "toc_section_display": true,
   "toc_window_display": true
  },
  "varInspector": {
   "cols": {
    "lenName": 16,
    "lenType": 16,
    "lenVar": 40
   },
   "kernels_config": {
    "python": {
     "delete_cmd_postfix": "",
     "delete_cmd_prefix": "del ",
     "library": "var_list.py",
     "varRefreshCmd": "print(var_dic_list())"
    },
    "r": {
     "delete_cmd_postfix": ") ",
     "delete_cmd_prefix": "rm(",
     "library": "var_list.r",
     "varRefreshCmd": "cat(var_dic_list()) "
    }
   },
   "types_to_exclude": [
    "module",
    "function",
    "builtin_function_or_method",
    "instance",
    "_Feature"
   ],
   "window_display": false
  }
 },
 "nbformat": 4,
 "nbformat_minor": 2
}
