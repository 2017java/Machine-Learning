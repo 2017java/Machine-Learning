{
 "cells": [
  {
   "cell_type": "markdown",
   "metadata": {
    "toc": true
   },
   "source": [
    "<h1>Table of Contents<span class=\"tocSkip\"></span></h1>\n",
    "<div class=\"toc\"><ul class=\"toc-item\"><li><span><a href=\"#1.-高斯混合聚类\" data-toc-modified-id=\"1.-高斯混合聚类-1\">1. 高斯混合聚类</a></span><ul class=\"toc-item\"><li><span><a href=\"#1.1-高斯混合分布\" data-toc-modified-id=\"1.1-高斯混合分布-1.1\">1.1 高斯混合分布</a></span></li><li><span><a href=\"#1.2-参数求解\" data-toc-modified-id=\"1.2-参数求解-1.2\">1.2 参数求解</a></span></li><li><span><a href=\"#1.3-EM-算法\" data-toc-modified-id=\"1.3-EM-算法-1.3\">1.3 EM 算法</a></span></li></ul></li><li><span><a href=\"#2.-Sklearn-实现\" data-toc-modified-id=\"2.-Sklearn-实现-2\">2. Sklearn 实现</a></span></li><li><span><a href=\"#参考文献\" data-toc-modified-id=\"参考文献-3\">参考文献</a></span></li></ul></div>"
   ]
  },
  {
   "cell_type": "markdown",
   "metadata": {},
   "source": [
    "相关文章：\n",
    "\n",
    "[机器学习 | 目录](https://blog.csdn.net/weixin_45488228/article/details/99691709)\n",
    "\n",
    "[机器学习 | EM 算法原理](https://blog.csdn.net/weixin_45488228/article/details/102267311)\n",
    "\n",
    "本文大部分内容搬运自周至华老师的《机器学习》<sup>[1]</sup>。"
   ]
  },
  {
   "cell_type": "markdown",
   "metadata": {},
   "source": [
    "# 1. 高斯混合聚类\n",
    "\n",
    "与 [$k$ 均值](https://blog.csdn.net/weixin_45488228/article/details/100612021) 用原型向量来刻画聚类结构不同，**高斯混合（Mixture-of-Gaussian）聚类采用概率模型来表达聚类原型**。\n",
    "\n",
    "我们先简单回顾下多元高斯（正态）分布的定义。对 $n$ 维样本空间 $\\mathcal{X}$ 中的随机向量 $x$，若服从`高斯分布`，其概率密度函数为：\n",
    "\n",
    "$$\n",
    "p(\\boldsymbol{x})=\\frac{1}{(2 \\pi)^{\\frac{n}{2}}|\\boldsymbol{\\Sigma}|^{\\frac{1}{2}}} e^{-\\frac{1}{2}(\\boldsymbol{x}-\\boldsymbol{\\mu})^{\\mathrm{T}} \\boldsymbol{\\Sigma}^{-1}(\\boldsymbol{x}-\\boldsymbol{\\mu})} \\tag{1}\n",
    "$$"
   ]
  },
  {
   "cell_type": "markdown",
   "metadata": {},
   "source": [
    "其中 $\\mu$ 是 $n$ 维均值向量，$\\Sigma$ 是 $n \\times n$ 的协方差矩阵。由上式可知，高斯分布完全由均值向量 $\\mu$ 和协方差矩阵 $\\Sigma$ 这两个参数确定。为了明确显示高斯分布与相应参数的依赖关系，将概率密度函数记为 $p(x|\\mu,\\Sigma)$。\n",
    "\n"
   ]
  },
  {
   "cell_type": "markdown",
   "metadata": {},
   "source": [
    "## 1.1 高斯混合分布"
   ]
  },
  {
   "cell_type": "markdown",
   "metadata": {},
   "source": [
    "我们可以定义`高斯混合分布`：\n",
    "\n",
    "$$p_{\\mathcal{M}}= \\alpha_i \\cdot p(x|\\mu_i,\\Sigma_i) \\tag{2}$$"
   ]
  },
  {
   "cell_type": "markdown",
   "metadata": {},
   "source": [
    "该分布共由 $k$ 个混合成分组成，每个混合成分对应一个高斯分布。其中 $\\mu_i$ 与 $\\Sigma_i$ 是第 $i$ 个高斯混合成分的参数，而 $\\alpha_i >0$ 为对应的“`混合系数`”（muxture coefficient），且 $\\sum_{i=1}^k \\alpha_i =1$。"
   ]
  },
  {
   "cell_type": "markdown",
   "metadata": {},
   "source": [
    "假设样本的生成过程由高斯混合分布给出：首先，根据 $\\alpha_1,\\alpha_2,...,\\alpha_k$ 定义的先验分布选择高斯混合成分，其中 $\\alpha_i$ 为选择第 $i$ 个混合成分的概率；然后，根据被选择的混合成分的概率密度函数进行采样，从而生成相应的样本。"
   ]
  },
  {
   "cell_type": "markdown",
   "metadata": {},
   "source": [
    "若训练集 $D = \\{x_1,x_2,...,x_m\\}$ 由上述过程生成，令随机变量 $z_j \\in \\{1,2,...,k\\}$ 表示生成样本 $x_j$ 的高斯混合成分，其取值未知。显然，$z_j$ 的先验概率 $P(z_j=i)$ 对应于 $\\alpha_i(i=1,2,...,k)$。\n",
    "\n",
    "根据贝叶斯定理，有：\n",
    "\n",
    "$$p_{\\mathcal{M}}(x_j,z_j=i)=p_{\\mathcal{M}}(x_j) \\cdot p_{\\mathcal{M}}(z_j=i|x_j) \\tag{3}$$\n",
    "\n",
    "$$p_{\\mathcal{M}}(x_j,z_j=i)=P(z_j=i)\\cdot p_{\\mathcal{M}}(x_j|z_j=i) \\tag{4}$$\n",
    "\n",
    "所以 $z_j$ 的后验分布对应于：\n",
    "\n",
    "$$\n",
    "\\begin{aligned} p_{\\mathcal{M}}\\left(z_{j}=i | \\boldsymbol{x}_{j}\\right) &=\\frac{P\\left(z_{j}=i\\right) \\cdot p_{\\mathcal{M}}\\left(\\boldsymbol{x}_{j} | z_{j}=i\\right)}{p_{\\mathcal{M}}\\left(\\boldsymbol{x}_{j}\\right)} \\\\ &=\\frac{\\alpha_{i} \\cdot p\\left(\\boldsymbol{x}_{j} | \\boldsymbol{\\mu}_{i}, \\boldsymbol{\\Sigma}_{i}\\right)}{\\sum_{l=1}^{k} \\alpha_{l} \\cdot p\\left(\\boldsymbol{x}_{j} | \\boldsymbol{\\mu}_{l}, \\mathbf{\\Sigma}_{l}\\right)} \\end{aligned} \\tag{5}\n",
    "$$"
   ]
  },
  {
   "cell_type": "markdown",
   "metadata": {},
   "source": [
    "换言之，$p_{\\mathcal{M}}(z_j=i|x_j)$ 给出了样本 $x_j$ 由第 $i$ 个高斯混合成分生成的后验概率，为方便叙述，将其简记为 $\\gamma_{ji} (i=1,2,...,k)$。"
   ]
  },
  {
   "cell_type": "markdown",
   "metadata": {},
   "source": [
    "当高斯混合分布 (2) 已知时，高斯混合聚类将样本集 $D$ 划分为 $k$ 个簇 $C=\\{C_1,C_2,...,C_k\\}$，每个样本 $x_j$ 的簇标记 $\\lambda_j$ 如下确定：\n",
    "\n",
    "$$\n",
    "\\lambda_{j}=\\underset{i \\in\\{1,2, \\ldots, k\\}}{\\arg \\max } \\gamma_{j i} \\tag{6}\n",
    "$$"
   ]
  },
  {
   "cell_type": "markdown",
   "metadata": {},
   "source": [
    "因此，从原型聚类的角度来看，高斯混合聚类时采用概率模型（高斯分布）对原型进行刻画，簇划分则由原型对应后验概率确定。"
   ]
  },
  {
   "cell_type": "markdown",
   "metadata": {},
   "source": [
    "## 1.2 参数求解\n",
    "\n",
    "对于高斯混合分布中的参数 $\\{(\\alpha_i,\\mu_i,\\Sigma_i) | 1\\leq i\\leq k\\}$ 的求解，对于给定样本集 $D$，可采用极大似然估计，即：\n",
    "\n",
    "$$\n",
    "\\begin{aligned} L L(D) &=\\ln \\left(\\prod_{j=1}^{m} p_{\\mathcal{M}}\\left(\\boldsymbol{x}_{j}\\right)\\right) \\\\ &=\\sum_{j=1}^{m} \\ln \\left(\\sum_{i=1}^{k} \\alpha_{i} \\cdot p\\left(\\boldsymbol{x}_{j} | \\boldsymbol{\\mu}_{i}, \\mathbf{\\Sigma}_{i}\\right)\\right) \\end{aligned} \\tag{7}\n",
    "$$"
   ]
  },
  {
   "cell_type": "markdown",
   "metadata": {},
   "source": [
    "常采用 [EM 算法](https://blog.csdn.net/weixin_45488228/article/details/102267311) 进行迭代优化求解。下面我们做一个简单的推导。"
   ]
  },
  {
   "cell_type": "markdown",
   "metadata": {},
   "source": [
    "若参数 $\\{(\\alpha_i,\\mu_i,\\Sigma_i) | 1\\leq i\\leq k\\}$ 能使式 (7) 最大化，则由 $\\frac{\\partial L L(D)}{\\partial \\boldsymbol{\\mu}_{i}}=0$、$\\frac{\\partial L L(D)}{\\partial \\boldsymbol{\\Sigma}_{i}}=0$ 有：\n",
    "\n",
    "$$\n",
    "\\boldsymbol{\\mu}_{i}=\\frac{\\sum_{j=1}^{m} \\gamma_{j i} \\boldsymbol{x}_{j}}{\\sum_{j=1}^{m} \\gamma_{j i}} \\tag{8}\n",
    "$$\n",
    "\n",
    "$$\n",
    "\\mathbf{\\Sigma}_{i}=\\frac{\\sum_{j=1}^{m} \\gamma_{j i}\\left(\\boldsymbol{x}_{j}-\\boldsymbol{\\mu}_{i}\\right)\\left(\\boldsymbol{x}_{j}-\\boldsymbol{\\mu}_{i}\\right)^{\\mathrm{T}}}{\\sum_{j=1}^{m} \\gamma_{j i}} \\tag{9}\n",
    "$$\n",
    "\n",
    "*从式 (8) 可以看出各混合成分的均值 $\\mu_i$ 可通过样本加权平均来估计，样本权重是每个样本属于该成分的后验概率。*\n",
    "\n",
    "对于混合系数 $\\alpha_i$，除了要最大化 $L L(D)$，还要满足 $\\alpha_i \\geq 0,\\sum_{i=1}^k \\alpha_i =1 $。考虑 $L L(D)$ 的拉格朗日形式：\n",
    "\n",
    "$$L L(D)+\\lambda\\bigg(\\sum_{i=1}^k \\alpha_i -1 \\bigg) \\tag{10}$$"
   ]
  },
  {
   "cell_type": "markdown",
   "metadata": {},
   "source": [
    "其中 $\\lambda$ 为拉格朗日乘子。对式 (10) 求 $\\alpha_i$ 的导数为 0，有：\n",
    "\n",
    "$$\n",
    "\\sum_{j=1}^{m} \\frac{p\\left(\\boldsymbol{x}_{j} | \\boldsymbol{\\mu}_{i}, \\mathbf{\\Sigma}_{i}\\right)}{\\sum_{l=1}^{k} \\alpha_{l} \\cdot p\\left(\\boldsymbol{x}_{j} | \\boldsymbol{\\mu}_{l}, \\mathbf{\\Sigma}_{l}\\right)}+\\lambda=0 \\tag{11}\n",
    "$$\n",
    "\n",
    "两边同乘以 $\\alpha_i$ ，对所有样本求和可知 $\\lambda = -m$，有：\n",
    "\n",
    "$$\\alpha_i = \\frac{1}{m} \\sum_{j=1}^m \\gamma_{ji} \\tag{12}$$"
   ]
  },
  {
   "cell_type": "markdown",
   "metadata": {},
   "source": [
    "*即每个高斯成分的混合系数有样本属于该成分的平均后验概率确定。*"
   ]
  },
  {
   "cell_type": "markdown",
   "metadata": {},
   "source": [
    "***\n",
    "\n",
    "## 1.3 EM 算法\n",
    "\n",
    "由上述推导即可获得高斯混合模型的 [EM 算法](https://blog.csdn.net/weixin_45488228/article/details/102267311)：**E 步**：在每步迭代中，先根据当前参数来计算每个样本属于每个高斯成分的后验概率 $\\gamma_{ji}$；**M 步**：根据式 (8)、(9)、(11) 更新模型参数 $\\{(\\alpha_i,\\mu_i,\\Sigma_i) | 1\\leq i\\leq k\\}$。"
   ]
  },
  {
   "cell_type": "markdown",
   "metadata": {},
   "source": [
    "高斯混合聚类算法如下图所示。算法第 1 行对高斯混合分布的模型参数进行初始化（通常是随机或使用 KMeans 进行初始化），然后，在第 2-12 行基于 EM 算法对模型参数进行迭代更新。若 EM 算法的停止条件满足（例如已到达最大迭代轮数，或似然函数 $L L(D)$ 增长很少甚至不再增长），则在第 14-17 行根据高斯混合分布确定簇划分，在第 18 行返回最终结果。\n",
    "\n",
    "<img style=\"float:center\" src=\"https://x1a-alioss.oss-cn-shenzhen.aliyuncs.com/Screen Shot 2019-10-09 at 13.05.00 3.png\" >\n",
    "\n",
    "<center> 图1 高斯混合聚类算法的 EM 算法 </center>\n"
   ]
  },
  {
   "cell_type": "markdown",
   "metadata": {},
   "source": [
    "# 2. Sklearn 实现"
   ]
  },
  {
   "cell_type": "markdown",
   "metadata": {},
   "source": [
    "**[sklearn.mixture.GaussianMixture](https://scikit-learn.org/stable/modules/generated/sklearn.mixture.GaussianMixture.html#sklearn.mixture.GaussianMixture)**(n_components=1, covariance_type=’full’, tol=0.001, reg_covar=1e-06, max_iter=100, n_init=1, init_params=’kmeans’, weights_init=None, means_init=None, precisions_init=None, random_state=None, warm_start=False, verbose=0, verbose_interval=10)"
   ]
  },
  {
   "cell_type": "markdown",
   "metadata": {},
   "source": [
    "参数 <sup>[2]</sup>： \n",
    "1. n_components:混合高斯模型个数，默认为1 \n",
    "2. covariance_type:协方差类型，包括{‘full’,‘tied’, ‘diag’, ‘spherical’}四种，分别对应完全协方差矩阵（元素都不为零），相同的完全协方差矩阵（HMM会用到），对角协方差矩阵（非对角为零，对角不为零），球面协方差矩阵（非对角为零，对角完全相同，球面特性），默认‘full’ 完全协方差矩阵 \n",
    "3. tol：EM迭代停止阈值，默认为1e-3. \n",
    "4. reg_covar:协方差对角非负正则化，保证协方差矩阵均为正，默认为0 \n",
    "5. max_iter:最大迭代次数，默认100 \n",
    "6. n_init:初始化次数，用于产生最佳初始参数，默认为1 \n",
    "7. init_params: {‘kmeans’, ‘random’}, defaults to ‘kmeans’.初始化参数实现方式，默认用kmeans实现，也可以选择随机产生 \n",
    "8. weights_init:各组成模型的先验权重，可以自己设，默认按照7产生 \n",
    "9. means_init:初始化均值，同8 \n",
    "10. precisions_init:初始化精确度（模型个数，特征个数），默认按照7实现 \n",
    "11. random_state :随机数发生器 \n",
    "12. warm_start :若为True，则fit（）调用会以上一次fit（）的结果作为初始化参数，适合相同问题多次fit的情况，能加速收敛，默认为False。 \n",
    "13. verbose :使能迭代信息显示，默认为0，可以为1或者大于1（显示的信息不同） \n",
    "14. verbose_interval :与13挂钩，若使能迭代信息显示，设置多少次迭代后显示信息，默认10次。"
   ]
  },
  {
   "cell_type": "markdown",
   "metadata": {},
   "source": [
    "# 参考文献\n",
    "\n",
    "[1] 李航. 统计学习方法[M]. 北京: 清华大学出版社, 2012: 95-96.\n",
    "\n",
    "[2] QuantumChaos.SKlearn库EM算法混合高斯模型参数说明及代码实现[EB/OL].https://blog.csdn.net/lihou1987/article/details/70833229?utm_source=copy, 2017-04-26."
   ]
  }
 ],
 "metadata": {
  "kernelspec": {
   "display_name": "Python 3",
   "language": "python",
   "name": "python3"
  },
  "language_info": {
   "codemirror_mode": {
    "name": "ipython",
    "version": 3
   },
   "file_extension": ".py",
   "mimetype": "text/x-python",
   "name": "python",
   "nbconvert_exporter": "python",
   "pygments_lexer": "ipython3",
   "version": "3.7.3"
  },
  "toc": {
   "base_numbering": 1,
   "nav_menu": {},
   "number_sections": false,
   "sideBar": true,
   "skip_h1_title": false,
   "title_cell": "Table of Contents",
   "title_sidebar": "Contents",
   "toc_cell": true,
   "toc_position": {},
   "toc_section_display": true,
   "toc_window_display": true
  },
  "varInspector": {
   "cols": {
    "lenName": 16,
    "lenType": 16,
    "lenVar": 40
   },
   "kernels_config": {
    "python": {
     "delete_cmd_postfix": "",
     "delete_cmd_prefix": "del ",
     "library": "var_list.py",
     "varRefreshCmd": "print(var_dic_list())"
    },
    "r": {
     "delete_cmd_postfix": ") ",
     "delete_cmd_prefix": "rm(",
     "library": "var_list.r",
     "varRefreshCmd": "cat(var_dic_list()) "
    }
   },
   "types_to_exclude": [
    "module",
    "function",
    "builtin_function_or_method",
    "instance",
    "_Feature"
   ],
   "window_display": false
  }
 },
 "nbformat": 4,
 "nbformat_minor": 2
}
