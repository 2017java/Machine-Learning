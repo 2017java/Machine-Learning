{
 "cells": [
  {
   "cell_type": "markdown",
   "metadata": {
    "toc": true
   },
   "source": [
    "<h1>Table of Contents<span class=\"tocSkip\"></span></h1>\n",
    "<div class=\"toc\"><ul class=\"toc-item\"><li><span><a href=\"#支持向量机\" data-toc-modified-id=\"支持向量机-1\">支持向量机</a></span></li><li><span><a href=\"#1.-线性可分支持向量机\" data-toc-modified-id=\"1.-线性可分支持向量机-2\">1. 线性可分支持向量机</a></span></li><li><span><a href=\"#2.-线性支持向量机\" data-toc-modified-id=\"2.-线性支持向量机-3\">2. 线性支持向量机</a></span></li><li><span><a href=\"#3.-非线性支持向量机\" data-toc-modified-id=\"3.-非线性支持向量机-4\">3. 非线性支持向量机</a></span><ul class=\"toc-item\"><li><span><a href=\"#3.1-核函数\" data-toc-modified-id=\"3.1-核函数-4.1\">3.1 核函数</a></span></li></ul></li></ul></div>"
   ]
  },
  {
   "cell_type": "markdown",
   "metadata": {},
   "source": [
    "# 支持向量机\n",
    "\n",
    "`支持向量机（Support Vector Machines, SVM）`：是一种**二分类模型**，它的基本模型是定义在特征空间上的间隔最大化的线性分类器，**间隔最大化**使它有别于感知器；支持向量机还包括核技巧（通过非线性函数转换为线性模型），这使它成为实质上的非线性分类器。\n",
    "\n",
    "支持向量机的学习策略就是**间隔最大化**，可以形式化为一个求解**凸二次规划**（convex quadratic programming）的问题，也等价于正则化的**合页损失函数最小化问题**，支持向量机的学习算法是求解凸二次规划的最优算法。\n",
    "\n",
    "按训练数据分线性可分程度，支持向量机的分类以及对应采取的算法如下：\n",
    "\n",
    "1. `线性可分支持向量机`：硬间隔最大化（线性可分）\n",
    "\n",
    "2. `线性支持向量机`：软间隔最大化（近似线性可分）\n",
    "\n",
    "3. `非线性支持向量机`：核技巧+软间隔最大化（线性不可分）\n",
    "\n",
    "线性可分支持向量机可以看作是线性支持向量机的一个特例；非线性支持向量机则通过**核函数**将线性不可分数据转换为线性可分数据，从而转换为线性支持向量机。\n",
    "\n",
    "本文将按照上述思路介绍的三类支持向量机、核函数。"
   ]
  },
  {
   "cell_type": "markdown",
   "metadata": {},
   "source": [
    "# 1. 线性可分支持向量机\n",
    "\n",
    "线性可分支持向量机（linear support vector machine in linearly separable case）\n",
    "\n",
    "硬间隔最大化（hard margin maximization）"
   ]
  },
  {
   "cell_type": "markdown",
   "metadata": {},
   "source": [
    "# 2. 线性支持向量机\n",
    "\n",
    "线性支持向量机（linear support vector machine）\n",
    "\n",
    "软间隔最大化（）"
   ]
  },
  {
   "cell_type": "markdown",
   "metadata": {},
   "source": [
    "# 3. 非线性支持向量机"
   ]
  },
  {
   "cell_type": "markdown",
   "metadata": {},
   "source": [
    "## 3.1 核函数"
   ]
  },
  {
   "cell_type": "code",
   "execution_count": null,
   "metadata": {},
   "outputs": [],
   "source": []
  }
 ],
 "metadata": {
  "kernelspec": {
   "display_name": "Python 3",
   "language": "python",
   "name": "python3"
  },
  "language_info": {
   "codemirror_mode": {
    "name": "ipython",
    "version": 3
   },
   "file_extension": ".py",
   "mimetype": "text/x-python",
   "name": "python",
   "nbconvert_exporter": "python",
   "pygments_lexer": "ipython3",
   "version": "3.7.3"
  },
  "toc": {
   "base_numbering": 1,
   "nav_menu": {},
   "number_sections": false,
   "sideBar": true,
   "skip_h1_title": false,
   "title_cell": "Table of Contents",
   "title_sidebar": "Contents",
   "toc_cell": true,
   "toc_position": {},
   "toc_section_display": true,
   "toc_window_display": false
  },
  "varInspector": {
   "cols": {
    "lenName": 16,
    "lenType": 16,
    "lenVar": 40
   },
   "kernels_config": {
    "python": {
     "delete_cmd_postfix": "",
     "delete_cmd_prefix": "del ",
     "library": "var_list.py",
     "varRefreshCmd": "print(var_dic_list())"
    },
    "r": {
     "delete_cmd_postfix": ") ",
     "delete_cmd_prefix": "rm(",
     "library": "var_list.r",
     "varRefreshCmd": "cat(var_dic_list()) "
    }
   },
   "types_to_exclude": [
    "module",
    "function",
    "builtin_function_or_method",
    "instance",
    "_Feature"
   ],
   "window_display": false
  }
 },
 "nbformat": 4,
 "nbformat_minor": 2
}
