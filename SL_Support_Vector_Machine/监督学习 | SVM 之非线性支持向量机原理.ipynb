{
 "cells": [
  {
   "cell_type": "markdown",
   "metadata": {
    "toc": true
   },
   "source": [
    "<h1>Table of Contents<span class=\"tocSkip\"></span></h1>\n",
    "<div class=\"toc\"><ul class=\"toc-item\"><li><span><a href=\"#1.-非线性支持向量机\" data-toc-modified-id=\"1.-非线性支持向量机-1\">1. 非线性支持向量机</a></span><ul class=\"toc-item\"><li><span><a href=\"#1.1-核技巧\" data-toc-modified-id=\"1.1-核技巧-1.1\">1.1 核技巧</a></span></li><li><span><a href=\"#1.2-核函数\" data-toc-modified-id=\"1.2-核函数-1.2\">1.2 核函数</a></span><ul class=\"toc-item\"><li><span><a href=\"#1.2.1-核函数选择\" data-toc-modified-id=\"1.2.1-核函数选择-1.2.1\">1.2.1 核函数选择</a></span></li><li><span><a href=\"#1.2.2-RBF-函数\" data-toc-modified-id=\"1.2.2-RBF-函数-1.2.2\">1.2.2 RBF 函数</a></span></li></ul></li></ul></li><li><span><a href=\"#参考资料\" data-toc-modified-id=\"参考资料-2\">参考资料</a></span></li></ul></div>"
   ]
  },
  {
   "cell_type": "markdown",
   "metadata": {},
   "source": [
    "相关文章：\n",
    "\n",
    "[机器学习 | 目录](https://blog.csdn.net/weixin_45488228/article/details/99691709)\n",
    "\n",
    "[机器学习 | 网络搜索及可视化](https://blog.csdn.net/weixin_45488228/article/details/99235845)\n",
    "\n",
    "[监督学习 | SVM 之线性支持向量机原理](https://blog.csdn.net/weixin_45488228/article/details/99687673)"
   ]
  },
  {
   "cell_type": "markdown",
   "metadata": {},
   "source": [
    "# 1. 非线性支持向量机\n",
    "对解线性分类问题，线性分类支持向量机是一种非常有效的方法。但是，有时分类问题是非线性的，这时可以使用`非线性支持向量机`（non-linear support vector machine）。"
   ]
  },
  {
   "attachments": {},
   "cell_type": "markdown",
   "metadata": {},
   "source": [
    "非线性分类问题是指通过利用非线性模型才能很好地进行分类的问题。如下图所示，这是一个分类问题，无法用直线（线性模型）将正负实例正确分开，但可以用一条椭圆（非线性模型）将它们正确分开。<sup>[1]\n",
    "\n",
    "<img style=\"float:center\" src=\"https://x1a-alioss.oss-cn-shenzhen.aliyuncs.com/Screen Shot 2019-08-17 at 14.45.18.png\" width=\"520\" >\n",
    "\n",
    "<center> 图1 非线性分类问题与核技巧示例</center>\n",
    "\n",
    "再看一个“异或”问题，同样也不是线性可分的：\n",
    "\n",
    "<img style=\"float:center\" src=\"https://x1a-alioss.oss-cn-shenzhen.aliyuncs.com/Screen Shot 2019-08-17 at 15.55.22.png\" width=\"520\" >\n",
    "\n",
    "<center> 图2 异或问题与非线性映射</center>\n",
    "\n",
    "对这样的问题，可将样本从原始空间映射到一个更高维的特征空间，使得样本在这个特征空间内线性可分。如图 2 所示，若将原始的二维空间映射到一个合适的三维空间，就可以找到一个合适的划分超平面。当原始空间是有限维（即属性数是有限的），那么一定存在一个高维特征空间使样本可分。"
   ]
  },
  {
   "cell_type": "markdown",
   "metadata": {},
   "source": [
    "令 $\\phi(x)$ 表示将 $x$ 映射后的特征向量，于是，在特征空间中划分超平面模型可表示为：\n",
    "\n",
    "$$f(x)=w^T\\phi(x)+b \\tag{1}$$\n",
    "\n",
    "[线性可分支持向量机](https://blog.csdn.net/weixin_45488228/article/details/99687673#12__134)的原始问题变为：\n",
    "\n",
    "$$\n",
    "\\begin{array}{ll}{\\min \\limits_{w, b}} & {\\frac{1}{2}\\|w\\|^{2}} \\tag{2}\\\\ {\\text { s.t. }} & {y_{i}\\left(w^T \\phi(x_i)+b\\right)-1 \\geqslant 0, \\quad i=1,2, \\cdots, N}\\end{array}\n",
    "$$\n",
    "\n",
    "其对偶问题为：\n",
    "\n",
    "$$\n",
    "\\begin{array}{ll}{\\max \\limits_{\\alpha}} & { \\sum_{i=1}^N\\alpha_i-\\frac{1}{2}\\sum_{i=1}^N\\sum_{j=1}^N\\alpha_i\\alpha_jy_iy_j\\phi(x_i)^T\\phi(x_j)} \\tag{3}\\\\ {\\text { s.t. }} & {\\sum_{i=1}^N\\alpha_iy_i=0}\\\\\n",
    "& {\\alpha_i\\geqslant 0, \\quad i=1,2,\\cdots,N}\\end{array}\n",
    "$$"
   ]
  },
  {
   "cell_type": "markdown",
   "metadata": {},
   "source": [
    "## 1.1 核技巧\n",
    "\n",
    "求解 (2) 涉及到计算 $\\phi(x_i)^T\\phi(x_j)$，这是样本 $x_i$ 与 $x_j$ 映射到特征空间之后的内积。由于特征空间维数可能很高，设置可能是无穷维，因此直接计算 $\\phi(x_i)^T\\phi(x_j)$ 通常是困难的。为了避开这个障碍，可以设想这样一个函数：\n",
    "\n",
    "$$k(x_i,x_j)= \\phi(x_i)^T\\phi(x_j)\\tag{4}$$\n",
    "\n",
    "`核技巧`：$x_i$ 与 $x_j$ 在特征空间的内积等于它们在原始样本空间中通过函数 $k(\\cdot,\\cdot)$ 计算的结果，于是 (3)可以重写为：\n",
    "\n",
    "$$\n",
    "\\begin{array}{ll}{\\max \\limits_{\\alpha}} & { \\sum_{i=1}^N\\alpha_i-\\frac{1}{2}\\sum_{i=1}^N\\sum_{j=1}^N\\alpha_i\\alpha_jy_iy_j k(\\cdot,\\cdot)}\\\\ {\\text { s.t. }} & {\\sum_{i=1}^N\\alpha_iy_i=0}\\\\\n",
    "& {\\alpha_i\\geqslant 0, \\quad i=1,2,\\cdots,N}\n",
    "\\end{array}\\tag{5}\n",
    "$$\n",
    "\n",
    "求解后即可得到：\n",
    "\n",
    "$$\n",
    "\\begin{array}{ll}\n",
    "{f(x)} &= {w^T\\phi(x)+b} \\\\\n",
    "&= {\\sum_{i=1}^N{\\alpha_iy_i\\phi(x_i)^T\\phi(x)+b}} \\\\\n",
    "&= {\\sum_{i=1}^N\\alpha_iy_ik(x,x_i)+b}\\\\\n",
    "\\end{array}\\tag{6}\n",
    "$$\n",
    "\n",
    "这里的函数 $k(\\cdot,\\cdot)$ 就是“`核函数`”（kernel function）。上式显示出模型最优解可以通过训练样本的核函数展开，这一展开式又称为`支持向量展式`（support vector expansion）。"
   ]
  },
  {
   "cell_type": "markdown",
   "metadata": {},
   "source": [
    "## 1.2 核函数\n",
    "\n",
    "**定理（核函数）**：令 $X$ 为输入空间，$k(\\cdot,\\cdot)$ 是定义在 $X\\times X$ 上的对称函数，则 $k$ 是核函数当且仅当对于任意数据 $D=\\{x_1,x_2,\\cdots x_m \\}$，“核矩阵”（kernel matrix）$K$ 总是半正定的：<sup>[2]\n",
    "\n",
    "$$\n",
    "\\mathbf{K}=\\left[\\begin{array}{ccccc}{\\kappa\\left(\\boldsymbol{x}_{1}, \\boldsymbol{x}_{1}\\right)} & {\\cdots} & {\\kappa\\left(\\boldsymbol{x}_{1}, \\boldsymbol{x}_{j}\\right)} & {\\cdots} & {\\kappa\\left(\\boldsymbol{x}_{1}, \\boldsymbol{x}_{m}\\right)} \\\\ {\\vdots} & {\\ddots} & {\\vdots} & {\\ddots} & {\\vdots} \\\\ {\\kappa\\left(\\boldsymbol{x}_{i}, \\boldsymbol{x}_{1}\\right)} & {\\cdots} & {\\kappa\\left(\\boldsymbol{x}_{i}, \\boldsymbol{x}_{j}\\right)} & {\\cdots} & {\\kappa\\left(\\boldsymbol{x}_{i}, \\boldsymbol{x}_{m}\\right)} \\\\ {\\vdots} & {\\ddots} & {\\vdots} & {\\ddots} & {\\vdots} \\\\ {\\kappa\\left(\\boldsymbol{x}_{m}, \\boldsymbol{x}_{1}\\right)} & {\\cdots} & {\\kappa\\left(\\boldsymbol{x}_{m}, \\boldsymbol{x}_{j}\\right)} & {\\cdots} & {\\kappa\\left(\\boldsymbol{x}_{m}, \\boldsymbol{x}_{m}\\right)}\\end{array}\\right]\n",
    "\\tag{7}$$\n",
    "\n"
   ]
  },
  {
   "cell_type": "markdown",
   "metadata": {},
   "source": [
    "这个定理表明，只要一个对称函数所对应的核矩阵半正定，它就能作为核函数使用。事实上，对于一个半正定核矩阵，总能找到一个与之对应的映射 $\\phi$ 。换言之，任何一个核函数都隐式地定义了一个称为“再生核希尔伯特空间”（RKHS, Reproducing Kernel Hilbert Space）的特征空间。"
   ]
  },
  {
   "attachments": {},
   "cell_type": "markdown",
   "metadata": {},
   "source": [
    "### 1.2.1 核函数选择\n",
    "\n",
    "通过前面讨论我们知道，我们希望样本在特征空间内线性可分，因此特征空间的好坏对支持向量机的性能直观重要。需要注意的是，在不知道特征映射的形式时，我们并不知道什么样的核函数时合适的，而核函数也仅是隐式地定义了这个特征空间。于是，“核函数选择”称为支持向量机的最大变数。若核函数选择不合适，则意味着将样本映射到了一个不合适的特征空间，很可能导致性能不佳。\n",
    "\n",
    "<center> 表1 常用核函数</center>\n",
    "\n",
    "<img style=\"float:center\" src=\"https://x1a-alioss.oss-cn-shenzhen.aliyuncs.com/Screen Shot 2019-08-17 at 17.14.24.png\" width=\"720\" >\n",
    "\n",
    "> 对文本数据通常采用线性核；情况不明时可先尝试高斯核（RBF 核）"
   ]
  },
  {
   "cell_type": "markdown",
   "metadata": {},
   "source": [
    "此外，还可以通过函数组合得到，例如：\n",
    "\n",
    "- 若 $k_1$ 和 $k_1$ 为核函数，则对于任意正数 $\\gamma_1, \\gamma_2$，其线性组合：\n",
    "\n",
    "$$\\gamma_1 k_1 + \\gamma_2 k_2 \\tag{8}$$\n",
    "\n",
    "    也是核函数；\n",
    "    \n",
    "- 若 $k_1$ 和 $k_1$ 为核函数，则核函数的直积：\n",
    "\n",
    "$$k_1 \\otimes k_2(x,z)=k_1(x,z)k_2(x,z) \\tag{9}$$\n",
    "\n",
    "    也是核函数；\n",
    "    \n",
    "- 若 $k_1$ 为核函数，则对于任意函数 $g(x)$：\n",
    "\n",
    "$$k(x,z)=g(x)k_1(x,z)g(z) \\tag{10}$$\n",
    "\n",
    "    也是核函数。"
   ]
  },
  {
   "cell_type": "markdown",
   "metadata": {},
   "source": [
    "### 1.2.2 RBF 函数\n",
    "\n",
    "首先来看一个例子，假设我们要将一组直线上的数据进行分类，但由于它们是非线性的，因此需要利用核函数将数据变换为线性可分的数据。\n",
    "\n",
    "<img style=\"float:center\" src=\"https://x1a-alioss.oss-cn-shenzhen.aliyuncs.com/Screen Shot 2019-08-17 at 21.25.45.png\" width=\"520\" >\n",
    "\n",
    "<center> 图3 非线性数据 </center>\n",
    "\n",
    "我们通过一条曲线将直线上的数据投射到一个平面上，可以看见，所有的正实例都被投射到了曲线的顶端，而所有的负实例都被投射到了曲线的低端，因此这时我们就可以利用线性可分支持向量机找出分类超平面。\n",
    "\n",
    "<img style=\"float:center\" src=\"https://x1a-alioss.oss-cn-shenzhen.aliyuncs.com/Screen Shot 2019-08-17 at 21.26.55.png\" width=\"520\" >\n",
    "\n",
    "<center> 图4 高斯核函数变换后的线性可分数据 </center>\n",
    "\n",
    "那么这条曲线是怎么构造出来的呢，这里就要介绍一个函数：`径向基函数`（RBF Radial Basis Function）。\n",
    "\n",
    "所谓径向基函数，就是某种沿径向对称的标量函数。通常定义为空间中任一点 $x$ 到某中心 $x_c$ 之间欧式距离的单调函数，可以记为 $k(x,x_c)$，其作用往往是局部的，即当 $x$ 原理 $x_c$ 时函数取值很小。\n",
    "\n",
    "最常用的径向基函数是`高斯径向基函数`：\n",
    "\n",
    "$$ k(x,x_c) = exp(-\\frac{\\|x-x_c\\|^2}{2\\sigma^2}) \\tag{11}$$\n",
    "\n",
    "当我们使用高斯径向基函数作为核函数时，就称之为`高斯核函数`。\n",
    "\n",
    "它的图像与高斯分布 $y=\\frac{1}{\\sigma \\sqrt{2\\pi}}e^{-\\frac{(x-\\mu)^2}{2\\sigma^2}}$ 相似，在高斯分布中，其分布被参数 $\\sigma$ 和 $\\mu$ 唯一确定，当 $\\sigma$ 越大时，图像越矮胖；当 $\\sigma$ 越小时，图像越高瘦。\n",
    "\n",
    "<img style=\"float:center\" src=\"https://x1a-alioss.oss-cn-shenzhen.aliyuncs.com/Screen Shot 2019-08-17 at 21.48.26.png\" width=\"520\" >\n",
    "\n",
    "<center> 图5 正态分布图 </center>\n",
    "\n",
    "类似地，我们在高斯径向基函数中使用 gamma 参数来决定图像的高瘦或矮胖：\n",
    "\n",
    "$$\\gamma = \\frac{1}{2\\sigma^2} \\tag{12}$$"
   ]
  },
  {
   "cell_type": "markdown",
   "metadata": {},
   "source": [
    "当 $\\gamma$ 越大时，图像越高瘦；当 $\\gamma$ 越小时，图像越矮瘦：\n",
    "\n",
    "<img style=\"float:center\" src=\"https://x1a-alioss.oss-cn-shenzhen.aliyuncs.com/Screen Shot 2019-08-17 at 21.54.59.png\" width=\"520\" >\n",
    "\n",
    "<center> 图6 参数 gamma 的大小对图像的影响 </center>\n",
    "\n",
    "在高维数据中也相似：\n",
    "\n",
    "<img style=\"float:center\" src=\"https://x1a-alioss.oss-cn-shenzhen.aliyuncs.com/Screen Shot 2019-08-17 at 21.54.45.png\" width=\"520\" >\n",
    "\n",
    "<center> 图7 高维度下参数 gamma 的大小对图像的影响 </center>\n",
    "\n",
    "此时超平面的截面即为分类数据的边界：\n",
    "\n",
    "<img style=\"float:center\" src=\"https://x1a-alioss.oss-cn-shenzhen.aliyuncs.com/Screen Shot 2019-08-17 at 21.56.31.png\" width=\"520\" >\n",
    "\n",
    "<center> 图8 参数 gamma 的大小对拟合程度的影响 </center>\n",
    "\n",
    "当我们使用高斯核函数时，此时的非线性支持向量机则由参数 $\\gamma$ 和惩罚参数 $C$ 所确定：\n",
    "\n",
    "当 $\\gamma$ 越大时，越有可能过拟合；当 $\\gamma$ 越小时，越有可能欠拟合；\n",
    "\n",
    "当 $C$ 越大时，对误分类的惩罚越大；当 $C$ 越小时，对误分类的惩罚越小。\n",
    "\n",
    "由于 SVM 模型没有先验信息，所以可以使用[网络搜索](https://blog.csdn.net/weixin_45488228/article/details/99235845)来确定参数大小。"
   ]
  },
  {
   "cell_type": "markdown",
   "metadata": {},
   "source": [
    "现在我们可以回答开头的例子中曲线时怎么拟合出来的了，我们通过在每一个数据点上使用一个高斯核函数，可以将数据分为两类，接着用一个连续平滑的曲线将这些图形连接起来，就得到了曲线：\n",
    "\n",
    "<img style=\"float:center\" src=\"https://x1a-alioss.oss-cn-shenzhen.aliyuncs.com/Screen Shot 2019-08-17 at 22.07.36.png\" width=\"520\" >\n",
    "\n",
    "<center> 图8 利用高斯核函数将数据线性化 </center>\n",
    "\n",
    "<img style=\"float:center\" src=\"https://x1a-alioss.oss-cn-shenzhen.aliyuncs.com/Screen Shot 2019-08-17 at 22.07.48.png\" width=\"520\" >\n",
    "\n",
    "<center> 图9 数据投射的曲线 </center>"
   ]
  },
  {
   "cell_type": "markdown",
   "metadata": {},
   "source": [
    "# 参考资料"
   ]
  },
  {
   "cell_type": "markdown",
   "metadata": {},
   "source": [
    "[1] 李航. 统计学习方法[M]. 北京: 清华大学出版社, 2012: 115-116.\n",
    "\n",
    "[2] 周志华. 机器学习[M]. 北京: 清华大学出版社, 2016: 127-129."
   ]
  }
 ],
 "metadata": {
  "kernelspec": {
   "display_name": "Python 3",
   "language": "python",
   "name": "python3"
  },
  "language_info": {
   "codemirror_mode": {
    "name": "ipython",
    "version": 3
   },
   "file_extension": ".py",
   "mimetype": "text/x-python",
   "name": "python",
   "nbconvert_exporter": "python",
   "pygments_lexer": "ipython3",
   "version": "3.7.3"
  },
  "toc": {
   "base_numbering": 1,
   "nav_menu": {},
   "number_sections": false,
   "sideBar": true,
   "skip_h1_title": false,
   "title_cell": "Table of Contents",
   "title_sidebar": "Contents",
   "toc_cell": true,
   "toc_position": {},
   "toc_section_display": true,
   "toc_window_display": true
  },
  "varInspector": {
   "cols": {
    "lenName": 16,
    "lenType": 16,
    "lenVar": 40
   },
   "kernels_config": {
    "python": {
     "delete_cmd_postfix": "",
     "delete_cmd_prefix": "del ",
     "library": "var_list.py",
     "varRefreshCmd": "print(var_dic_list())"
    },
    "r": {
     "delete_cmd_postfix": ") ",
     "delete_cmd_prefix": "rm(",
     "library": "var_list.r",
     "varRefreshCmd": "cat(var_dic_list()) "
    }
   },
   "types_to_exclude": [
    "module",
    "function",
    "builtin_function_or_method",
    "instance",
    "_Feature"
   ],
   "window_display": false
  }
 },
 "nbformat": 4,
 "nbformat_minor": 2
}
