{
 "cells": [
  {
   "cell_type": "markdown",
   "metadata": {
    "toc": true
   },
   "source": [
    "<h1>Table of Contents<span class=\"tocSkip\"></span></h1>\n",
    "<div class=\"toc\"><ul class=\"toc-item\"><li><span><a href=\"#1.-层次聚类\" data-toc-modified-id=\"1.-层次聚类-1\">1. 层次聚类</a></span><ul class=\"toc-item\"><li><span><a href=\"#1.1-凝聚聚类\" data-toc-modified-id=\"1.1-凝聚聚类-1.1\">1.1 凝聚聚类</a></span></li><li><span><a href=\"#1.2-层次图\" data-toc-modified-id=\"1.2-层次图-1.2\">1.2 层次图</a></span></li><li><span><a href=\"#1.3-不同凝聚算法比较\" data-toc-modified-id=\"1.3-不同凝聚算法比较-1.3\">1.3 不同凝聚算法比较</a></span></li></ul></li><li><span><a href=\"#2.-Sklearn-实现\" data-toc-modified-id=\"2.-Sklearn-实现-2\">2. Sklearn 实现</a></span><ul class=\"toc-item\"><li><span><a href=\"#2.1-层次图可视化\" data-toc-modified-id=\"2.1-层次图可视化-2.1\">2.1 层次图可视化</a></span></li></ul></li><li><span><a href=\"#参考文献\" data-toc-modified-id=\"参考文献-3\">参考文献</a></span></li></ul></div>"
   ]
  },
  {
   "cell_type": "markdown",
   "metadata": {},
   "source": [
    "# 1. 层次聚类\n",
    "\n",
    "`层次聚类`（hierarchical clustering）试图在不同层次对数据集进行划分，从而形成树形的聚类结构。数据集的划分可采用“自底向上”的聚合策略，也可采用“自顶向下”的分拆策略。<sup>[1]</sup>\n",
    "\n",
    "因此其优点是可以层次化聚类，将聚类结构视觉化；而缺点是计算量大，我们将在后面提到这一点。"
   ]
  },
  {
   "cell_type": "markdown",
   "metadata": {},
   "source": [
    "## 1.1 凝聚聚类\n",
    "\n",
    "`凝聚聚类`（Agglomerative Clustering）是一种采用自底向上聚类策略的层次聚类算法。它先将数据集中的每个样本看作一个初始聚类簇，然后在算法运行的每一步中找出**距离**最近的两个聚类簇进行合并。该过程不断重复，直到达到预设的聚类簇个数。这里的关键是如何计算聚类簇之间的距离。实际上，每个簇是一个样本集合，因此，只需要采用关于集合的某种距离即可。例如，给定聚类簇 $C_i$ 与 $C_j$，可通过下面的式子来计算距离：\n",
    "\n",
    "$$最小距离：d_{\\min }\\left(C_{i}, C_{j}\\right)=\\min _{\\boldsymbol{x} \\in C_{i}, \\boldsymbol{z} \\in C_{j}} \\operatorname{dist}(\\boldsymbol{x}, \\boldsymbol{z}) \\tag{1}$$\n",
    "\n",
    "$$最大距离：d_{\\max }\\left(C_{i}, C_{j}\\right)=\\max _{\\boldsymbol{x} \\in C_{i}, \\boldsymbol{z} \\in C_{j}} \\operatorname{dist}(\\boldsymbol{x}, \\boldsymbol{z}) \\tag{2}$$\n",
    "\n",
    "$$平均距离：d_{\\operatorname{avg}}\\left(C_{i}, C_{j}\\right)=\\frac{1}{\\left|C_{i}\\right|\\left|C_{j}\\right|} \\sum_{\\boldsymbol{x} \\in C_{i}} \\sum_{\\boldsymbol{z} \\in C_{j}} \\operatorname{dist}(\\boldsymbol{x}, \\boldsymbol{z}) \\tag{3}$$"
   ]
  },
  {
   "cell_type": "markdown",
   "metadata": {},
   "source": [
    "显然，**最小距离**由*两个簇的最近样本决定*，**最大距离**由*两个簇的最远样本决定*，而**平均距离**则由*两个簇的所有样本共同决定*。\n",
    "\n",
    "此外，也可以使用**离差平方和 ESS**（Errir Sum of Squares）来进行聚类，通过最小化聚类前后的离方平方和之差 $\\Delta(C_i,C_j)$，来寻找最近的簇。<sup>[2]</sup>\n",
    "\n",
    "$$离差平方和：ESS=\\sum_{i=1}^n x_i^2-\\frac{1}{n}\\big(\\sum_{i=1}^n x_i\\big)^2 \\tag{4}$$\n",
    "\n",
    "$$\\Delta(C_i,C_j)=ESS(C_i \\cup C_j)-ESS(C_i)-ESS(C_j) \\tag{5}$$"
   ]
  },
  {
   "cell_type": "markdown",
   "metadata": {},
   "source": [
    "***\n",
    "\n",
    "当聚类簇距离由 $d_{min}$、$d_{max}$、$d_{avg}$ 或 $\\Delta(C_i,C_j)$ 计算时，凝聚聚类算法被相应地称为`单链接`（single-linkage）、`全链接（complete-linkage）)`、`均链接`（average-linkage）和 `Ward-linkage` 算法。\n",
    "\n",
    "凝聚聚类算法描述如下图所示：\n",
    "\n",
    "- 在第 1-9 行，算法先对仅包含一个样本的初始聚类簇和相应的距离矩阵进行初始化；\n",
    "\n",
    "- 在第 11-23 行，凝聚算法不断合并距离最近的聚类簇，并对合并得到的聚类簇的距离矩阵进行更新；\n",
    "\n",
    "上述过程不断重复，直到达到预设的聚类簇数。"
   ]
  },
  {
   "cell_type": "markdown",
   "metadata": {},
   "source": [
    "<img style=\"float:center\" src=\"https://x1a-alioss.oss-cn-shenzhen.aliyuncs.com/Screen Shot 2019-10-10 at 18.28.14.png\" >\n",
    "\n",
    "<center> 图1 凝聚聚类算法</center>"
   ]
  },
  {
   "cell_type": "markdown",
   "metadata": {},
   "source": [
    "## 1.2 层次图\n",
    "\n",
    "下面以单链接为例子，介绍层次聚类的`层次图`（系统图，dendrogram）。假设我们有以下八个点，使用单链接聚为 3 个类。\n",
    "\n",
    "首先将每个点设为一个单独的簇类，因此此时有 8 个簇，大于预期 3 个簇，故需要继续进行聚类。\n",
    "\n",
    "<img style=\"float:center\" src=\"https://x1a-alioss.oss-cn-shenzhen.aliyuncs.com/Screen Shot 2019-10-10 at 18.44.04.png\" width=\"720\" >\n",
    "\n",
    "<center> 图2 初始化聚类簇</center>"
   ]
  },
  {
   "cell_type": "markdown",
   "metadata": {},
   "source": [
    "因此我们重复算法 11-23 行 3 次，每次将距离最近的两个样本聚为同一簇，对应右图的层次图。此时仍剩下 5 个簇，因此需要继续进行聚类。\n",
    "\n",
    "<img src=\"https://x1a-alioss.oss-cn-shenzhen.aliyuncs.com/Screen Shot 2019-10-10 at 18.44.20.png\" width=\"720\" >\n",
    "\n",
    "<center> 图3 5个聚类簇</center>"
   ]
  },
  {
   "cell_type": "markdown",
   "metadata": {},
   "source": [
    "可以看到，此时样本 7 与簇 {6,8} 的距离（$dist_{min}=dist(6,7)$）最近，因此可以将他们聚为一簇，如下图所示：\n",
    "\n",
    "<img src=\"https://x1a-alioss.oss-cn-shenzhen.aliyuncs.com/Screen Shot 2019-10-10 at 18.46.12.png\" width=\"720\" >\n",
    "\n",
    "<center> 图4 4个聚类簇</center>\n",
    "\n",
    "同理，继续进行聚类，考虑各个簇之间的距离，可以看出，样本 3 与簇 {4,5} 的距离（$dist_min=dist(3,4)$）最近，因此有：\n",
    "\n",
    "<img src=\"https://x1a-alioss.oss-cn-shenzhen.aliyuncs.com/Screen Shot 2019-10-10 at 18.47.02.png\" width=\"720\" >\n",
    "\n",
    "<center> 图5 3个聚类簇</center>"
   ]
  },
  {
   "cell_type": "markdown",
   "metadata": {},
   "source": [
    "此时已经达到了我们所要求的聚类簇数，故算法停止，对应的层次图如右方所示。\n",
    "\n",
    "***"
   ]
  },
  {
   "cell_type": "markdown",
   "metadata": {},
   "source": [
    "## 1.3 不同凝聚算法比较\n",
    "\n",
    "通过下面[图片](https://scikit-learn.org/dev/auto_examples/cluster/plot_linkage_comparison.html#sphx-glr-auto-examples-cluster-plot-linkage-comparison-py)，我们可以看到各类凝聚算法在不同类型数据上的聚类效果，\n",
    "\n",
    "> 需要注意的是，由于单链接和全链接只考虑簇中两个代表性的点，故受噪声和异常点影响大；而单链接容易出现一个簇囊括大多数样本（左下方图），而全链接则比单链接更紧凑些。\n",
    "\n",
    "<img style=\"float:center\" src=\"https://x1a-alioss.oss-cn-shenzhen.aliyuncs.com/sphx_glr_plot_linkage_comparison_001.png\" width=\"720\" >\n",
    "\n",
    "<center> 图6 不同凝聚算法比较</center>"
   ]
  },
  {
   "cell_type": "markdown",
   "metadata": {},
   "source": [
    "# 2. Sklearn 实现\n",
    "\n",
    "[sklearn.cluster.AgglomerativeClustering](https://scikit-learn.org/dev/modules/generated/sklearn.cluster.AgglomerativeClustering.html#sklearn.cluster.AgglomerativeClustering)(n_clusters=2, affinity='euclidean', memory=None, connectivity=None, compute_full_tree='auto', linkage='ward', distance_threshold=None)\n",
    "\n",
    "**n_clusters**：聚类簇数\n",
    "\n",
    "**affinity**： string or callable, default: “euclidean” 【距离计算参数】\n",
    "\n",
    "Metric used to compute the linkage. Can be “euclidean”, “l1”, “l2”, “manhattan”, “cosine”, or “precomputed”. If linkage is “ward”, only “euclidean” is accepted. If “precomputed”, a distance matrix (instead of a similarity matrix) is needed as input for the fit method.\n",
    "\n",
    "**linkage**： {“ward”, “complete”, “average”, “single”}, optional (default=”ward”)\n",
    "    \n",
    "Which linkage criterion to use. The linkage criterion determines which distance to use between sets of observation. The algorithm will merge the pairs of cluster that minimize this criterion.\n",
    "\n",
    "- ward minimizes the variance of the clusters being merged.\n",
    "\n",
    "- average uses the average of the distances of each observation of the two sets.\n",
    "\n",
    "- complete or maximum linkage uses the maximum distances between all observations of the two sets.\n",
    "\n",
    "- single uses the minimum of the distances between all observations of the two sets."
   ]
  },
  {
   "cell_type": "markdown",
   "metadata": {},
   "source": [
    "## 2.1 层次图可视化"
   ]
  },
  {
   "cell_type": "markdown",
   "metadata": {},
   "source": [
    "由于 Sklearn 中并不支持可视化层次图，因此我们使用 Scipy："
   ]
  },
  {
   "cell_type": "code",
   "execution_count": 5,
   "metadata": {},
   "outputs": [
    {
     "data": {
      "text/plain": [
       "<function matplotlib.pyplot.show(*args, **kw)>"
      ]
     },
     "execution_count": 5,
     "metadata": {},
     "output_type": "execute_result"
    },
    {
     "data": {
      "image/png": "[encoded data removed]",
      "text/plain": [
       "<Figure size 432x288 with 1 Axes>"
      ]
     },
     "metadata": {
      "needs_background": "light"
     },
     "output_type": "display_data"
    }
   ],
   "source": [
    "from scipy.cluster.hierarchy import dendrogram, ward, single\n",
    "from sklearn.datasets import load_iris\n",
    "import matplotlib.pyplot as plt\n",
    "\n",
    "X = load_iris().data[:10]\n",
    "\n",
    "linkage_matrix = ward(X)\n",
    "\n",
    "dendrogram(linkage_matrix)\n",
    "\n",
    "plt.show\n"
   ]
  },
  {
   "cell_type": "markdown",
   "metadata": {},
   "source": [
    "# 参考文献\n",
    "\n",
    "[1] 周志华. 机器学习[M]. 北京: 清华大学出版社, 2016: 214.\n",
    "\n",
    "[2] Ward J H , Jr. Hierarchical Grouping to Optimize an Objective Function[J]. Journal of the American Statistical Association, 1963, 58(301):236-244."
   ]
  }
 ],
 "metadata": {
  "kernelspec": {
   "display_name": "Python 3",
   "language": "python",
   "name": "python3"
  },
  "language_info": {
   "codemirror_mode": {
    "name": "ipython",
    "version": 3
   },
   "file_extension": ".py",
   "mimetype": "text/x-python",
   "name": "python",
   "nbconvert_exporter": "python",
   "pygments_lexer": "ipython3",
   "version": "3.7.3"
  },
  "toc": {
   "base_numbering": 1,
   "nav_menu": {},
   "number_sections": false,
   "sideBar": true,
   "skip_h1_title": false,
   "title_cell": "Table of Contents",
   "title_sidebar": "Contents",
   "toc_cell": true,
   "toc_position": {},
   "toc_section_display": true,
   "toc_window_display": true
  },
  "varInspector": {
   "cols": {
    "lenName": 16,
    "lenType": 16,
    "lenVar": 40
   },
   "kernels_config": {
    "python": {
     "delete_cmd_postfix": "",
     "delete_cmd_prefix": "del ",
     "library": "var_list.py",
     "varRefreshCmd": "print(var_dic_list())"
    },
    "r": {
     "delete_cmd_postfix": ") ",
     "delete_cmd_prefix": "rm(",
     "library": "var_list.r",
     "varRefreshCmd": "cat(var_dic_list()) "
    }
   },
   "types_to_exclude": [
    "module",
    "function",
    "builtin_function_or_method",
    "instance",
    "_Feature"
   ],
   "window_display": false
  }
 },
 "nbformat": 4,
 "nbformat_minor": 2
}
